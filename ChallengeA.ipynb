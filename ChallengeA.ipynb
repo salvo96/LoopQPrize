{
  "nbformat": 4,
  "nbformat_minor": 0,
  "metadata": {
    "kernelspec": {
      "display_name": "Python 3",
      "language": "python",
      "name": "python3"
    },
    "language_info": {
      "codemirror_mode": {
        "name": "ipython",
        "version": 3
      },
      "file_extension": ".py",
      "mimetype": "text/x-python",
      "name": "python",
      "nbconvert_exporter": "python",
      "pygments_lexer": "ipython3",
      "version": "3.8.3"
    },
    "colab": {
      "provenance": [],
      "collapsed_sections": []
    },
    "accelerator": "GPU"
  },
  "cells": [
    {
      "cell_type": "markdown",
      "metadata": {
        "id": "oU2z8w0-hkYE"
      },
      "source": [
        "# Challenge A by Salvatore Cavallaro (University of Catania)"
      ]
    },
    {
      "cell_type": "markdown",
      "metadata": {
        "id": "uO0qGVADLxEf"
      },
      "source": [
        "Let's import the libraries which will be used to solve the Challenge Task."
      ]
    },
    {
      "cell_type": "code",
      "metadata": {
        "id": "-Uql0UpUhkYv"
      },
      "source": [
        "import tensorflow as tf\n",
        "from tensorflow import keras\n",
        "import pandas as pd\n",
        "import numpy as np\n",
        "import matplotlib.pyplot as plt\n",
        "import os\n",
        "import cv2\n",
        "from tqdm import tqdm\n",
        "from tensorflow.keras.preprocessing.image import ImageDataGenerator\n",
        "from imutils import face_utils\n",
        "import dlib"
      ],
      "execution_count": null,
      "outputs": []
    },
    {
      "cell_type": "markdown",
      "metadata": {
        "id": "CITFZ95EMN7l"
      },
      "source": [
        "The dataset and the related information are stored into a personal folder in Google Drive:"
      ]
    },
    {
      "cell_type": "code",
      "metadata": {
        "colab": {
          "base_uri": "https://localhost:8080/"
        },
        "id": "0shMCwqs8hFP",
        "outputId": "239a72ce-0207-4776-8d33-6ad268345c8e"
      },
      "source": [
        "from google.colab import drive\n",
        "drive.mount('/content/drive')"
      ],
      "execution_count": null,
      "outputs": [
        {
          "output_type": "stream",
          "text": [
            "Mounted at /content/drive\n"
          ],
          "name": "stdout"
        }
      ]
    },
    {
      "cell_type": "markdown",
      "metadata": {
        "id": "Dgt02wGhhkY0"
      },
      "source": [
        "Here we define some useful data:"
      ]
    },
    {
      "cell_type": "code",
      "metadata": {
        "id": "PHWmtV1xhkY4"
      },
      "source": [
        "training_dir = \"/content/drive/MyDrive/Machine Learning Competition/challengeA_data/challengeA_data/images_train\"\n",
        "test_dir = \"/content/drive/MyDrive/Machine Learning Competition/challengeA_data/challengeA_data/images_test\"\n",
        "training_csv_dir = \"/content/drive/MyDrive/Machine Learning Competition/challengeA_data/challengeA_data/challengeA_train.csv\"\n",
        "test_csv_dir = \"/content/drive/MyDrive/Machine Learning Competition/challengeA_data/challengeA_data/challengeA_test.csv\"\n",
        "img_h, img_w, img_c = 48, 48, 3"
      ],
      "execution_count": null,
      "outputs": []
    },
    {
      "cell_type": "markdown",
      "metadata": {
        "id": "WMpvgIcFZOiZ"
      },
      "source": [
        "We define also two functions to plot diagrams related to *loss* and *accuracy* of trained models:"
      ]
    },
    {
      "cell_type": "code",
      "metadata": {
        "id": "J7a47jyaZbKW"
      },
      "source": [
        "def plotAccuracy(history):\n",
        "  plt.plot(history.history['accuracy'])\n",
        "  plt.plot(history.history['val_accuracy'])\n",
        "  plt.title('Model Accuracy')\n",
        "  plt.ylabel('accuracy')\n",
        "  plt.xlabel('epoch')\n",
        "  plt.legend(['train', 'validation'], loc='upper left')\n",
        "  plt.show()"
      ],
      "execution_count": null,
      "outputs": []
    },
    {
      "cell_type": "code",
      "metadata": {
        "id": "DTAx2JLVZpp9"
      },
      "source": [
        "def plotLoss(history):\n",
        "  plt.plot(history.history['loss'])\n",
        "  plt.plot(history.history['val_loss'])\n",
        "  plt.title('Model Loss')\n",
        "  plt.ylabel('loss')\n",
        "  plt.xlabel('epoch')\n",
        "  plt.legend(['train', 'validation'], loc='upper left')\n",
        "  plt.show()"
      ],
      "execution_count": null,
      "outputs": []
    },
    {
      "cell_type": "markdown",
      "metadata": {
        "id": "QFGOlbB5RK-X"
      },
      "source": [
        "#Explanatory analysis of the dataset"
      ]
    },
    {
      "cell_type": "markdown",
      "metadata": {
        "id": "-sUWwUHksK0a"
      },
      "source": [
        "Before beginning the explanatory analysis we read the images and labels of our datasets."
      ]
    },
    {
      "cell_type": "markdown",
      "metadata": {
        "id": "sdmUM6L_hkY_"
      },
      "source": [
        "### Reading of the dataset from the directory to a Numpy file"
      ]
    },
    {
      "cell_type": "markdown",
      "metadata": {
        "id": "LAR0TVnMhkZB"
      },
      "source": [
        "Here we define a function to read the dataset from the directory into a Tensor: it is a time consuming operation!"
      ]
    },
    {
      "cell_type": "code",
      "metadata": {
        "id": "kARY94KAhkZD"
      },
      "source": [
        "def readToTensor(directory):    \n",
        "    X_content = tf.zeros([0, img_h, img_w, img_c], dtype='uint8')    \n",
        "    for img in tqdm(os.listdir(directory)): \n",
        "        img_content = cv2.imread(os.path.join(directory, img)) \n",
        "        tmp_content = tf.convert_to_tensor(img_content) \n",
        "        X_content = tf.concat([X_content, [tmp_content]], 0)\n",
        "    \n",
        "    return X_content\n",
        "   "
      ],
      "execution_count": null,
      "outputs": []
    },
    {
      "cell_type": "markdown",
      "metadata": {
        "id": "GX1Ol7k5hkZE"
      },
      "source": [
        "Then we actually fill our tensors with training and test images:"
      ]
    },
    {
      "cell_type": "code",
      "metadata": {
        "id": "8Hj325imhkZH"
      },
      "source": [
        "X_train = readToTensor(training_dir)\n",
        "X_test_label = readToTensor(test_dir)"
      ],
      "execution_count": null,
      "outputs": []
    },
    {
      "cell_type": "markdown",
      "metadata": {
        "id": "feRle-tMhkZM"
      },
      "source": [
        "The datasets are then saved as a binary file into the current directory"
      ]
    },
    {
      "cell_type": "code",
      "metadata": {
        "id": "20YF77BUhkZN"
      },
      "source": [
        "X_train_save = X_train.numpy()\n",
        "np.save(\"datasetTrain\", X_train_save)\n",
        "\n",
        "X_test_save = X_test.numpy()\n",
        "np.save(\"datasetTest\", X_test_save)"
      ],
      "execution_count": null,
      "outputs": []
    },
    {
      "cell_type": "markdown",
      "metadata": {
        "id": "uIUh01j-hkZO"
      },
      "source": [
        "### Reading of the dataset from the binary files"
      ]
    },
    {
      "cell_type": "markdown",
      "metadata": {
        "id": "nIFGIfnChkZP"
      },
      "source": [
        "A faster way to charge our images dataset is using the binary files .npy previously saved"
      ]
    },
    {
      "cell_type": "code",
      "metadata": {
        "id": "ZeqrTLYKhkZ3"
      },
      "source": [
        "X_train = np.load(\"/content/drive/MyDrive/Machine Learning Competition/datasetTrain.npy\")\n",
        "X_test_label = np.load(\"/content/drive/MyDrive/Machine Learning Competition/datasetTest.npy\")"
      ],
      "execution_count": null,
      "outputs": []
    },
    {
      "cell_type": "markdown",
      "metadata": {
        "id": "fnOpROy2hkZ6"
      },
      "source": [
        "### Reading of the *labels* from the $.csv$ file"
      ]
    },
    {
      "cell_type": "markdown",
      "metadata": {
        "id": "gJ1DTBSVhkZ6"
      },
      "source": [
        "Now it's time to load information from .csv file provided for the challenge containing labeling information."
      ]
    },
    {
      "cell_type": "code",
      "metadata": {
        "id": "wrmrLsyChkZ7"
      },
      "source": [
        "def readCSVLabels(directory):\n",
        "    df = pd.read_csv(directory, sep=',',header=0)  #.csv content is put into a dataframe to be processed correctly as a table\n",
        "    df_sorted = df.sort_values(\"image_id\")    #read content is order to use an ascending approach according to the label id (same ordering of TRAINING directory -> X_train and labels match)   \n",
        "    df_sorted = df_sorted[\"emotion\"].values  #'emotion' column is what we are interested in -> we just keep it as a Numpy array\n",
        "    return df_sorted"
      ],
      "execution_count": null,
      "outputs": []
    },
    {
      "cell_type": "code",
      "metadata": {
        "id": "8N7vqLjzhkZ8"
      },
      "source": [
        "Y_train = readCSVLabels(training_csv_dir)"
      ],
      "execution_count": null,
      "outputs": []
    },
    {
      "cell_type": "markdown",
      "metadata": {
        "id": "ZIaAE3skwSo2"
      },
      "source": [
        "##Dataset statistics"
      ]
    },
    {
      "cell_type": "markdown",
      "metadata": {
        "id": "0ZvN0A0IwgJB"
      },
      "source": [
        "Let's try to discover how many images contain the *training dataset* and the *test dataset*."
      ]
    },
    {
      "cell_type": "code",
      "metadata": {
        "colab": {
          "base_uri": "https://localhost:8080/"
        },
        "id": "E8hceHR1wqjD",
        "outputId": "f1e034cf-0936-4325-8302-aa6b6ab2ed31"
      },
      "source": [
        "print(\"There are \"+str(X_train.shape[0])+\" images into the training dataset!\")"
      ],
      "execution_count": null,
      "outputs": [
        {
          "output_type": "stream",
          "text": [
            "There are 30503 images into the training dataset!\n"
          ],
          "name": "stdout"
        }
      ]
    },
    {
      "cell_type": "code",
      "metadata": {
        "colab": {
          "base_uri": "https://localhost:8080/"
        },
        "id": "577q1TC_xAW3",
        "outputId": "00350b95-4274-412d-9a86-88c8d3285cff"
      },
      "source": [
        "print(\"There are \"+str(X_test_label.shape[0])+\" images into the test dataset to be labeled by our model!\")"
      ],
      "execution_count": null,
      "outputs": [
        {
          "output_type": "stream",
          "text": [
            "There are 4038 images into the test dataset to be labeled by our model!\n"
          ],
          "name": "stdout"
        }
      ]
    },
    {
      "cell_type": "markdown",
      "metadata": {
        "id": "6TYDYrUoxfZE"
      },
      "source": [
        "Now we want to know something about the distribution of the 7 classes among the elements of the *training dataset*."
      ]
    },
    {
      "cell_type": "code",
      "metadata": {
        "colab": {
          "base_uri": "https://localhost:8080/"
        },
        "id": "ivXJfZlxxw9T",
        "outputId": "d1d0cba5-4f4d-46bf-d7b9-177d63d54881"
      },
      "source": [
        "classes = []\n",
        "df = pd.read_csv(training_csv_dir, sep=',',header=0)\n",
        "for i in range(7):\n",
        "  classes.append(df[df.emotion == i].shape[0])\n",
        "  print(\"Class \"+str(i)+\": \"+str(classes[i]))"
      ],
      "execution_count": null,
      "outputs": [
        {
          "output_type": "stream",
          "text": [
            "Class 0: 4198\n",
            "Class 1: 466\n",
            "Class 2: 4320\n",
            "Class 3: 7682\n",
            "Class 4: 5177\n",
            "Class 5: 3401\n",
            "Class 6: 5259\n"
          ],
          "name": "stdout"
        }
      ]
    },
    {
      "cell_type": "markdown",
      "metadata": {
        "id": "3TXwgZVI0vjl"
      },
      "source": [
        "We can see that the unbalancing is mainly focused on class 1 (Disgust), so it will be necessary to consider if this aspect could lead to bad performances of our models in the following steps."
      ]
    },
    {
      "cell_type": "markdown",
      "metadata": {
        "id": "j_REHquA1kzx"
      },
      "source": [
        "##Image properties"
      ]
    },
    {
      "cell_type": "markdown",
      "metadata": {
        "id": "83UhQzB93OBH"
      },
      "source": [
        "Firstly, let's try to visualize an example image from our dataset (and the label):"
      ]
    },
    {
      "cell_type": "code",
      "metadata": {
        "colab": {
          "base_uri": "https://localhost:8080/",
          "height": 284
        },
        "id": "XWKiknpk3V_L",
        "outputId": "d96f68e2-049d-4961-8650-6a34f4f2fd79"
      },
      "source": [
        "plt.imshow(X_train[0])\n",
        "print(\"The label for this image is: \"+str(Y_train[0]))\n",
        "plt.show()  "
      ],
      "execution_count": null,
      "outputs": [
        {
          "output_type": "stream",
          "text": [
            "The label for this image is: 6\n"
          ],
          "name": "stdout"
        },
        {
          "output_type": "display_data",
          "data": {
            "image/png": "[encoded data removed]",
            "text/plain": [
              "<Figure size 432x288 with 1 Axes>"
            ]
          },
          "metadata": {
            "tags": [],
            "needs_background": "light"
          }
        }
      ]
    },
    {
      "cell_type": "markdown",
      "metadata": {
        "id": "wKMGXxte3jNo"
      },
      "source": [
        "As we can see above the image is represented as a grayscale picture. Let's try to see the shape of the related Numpy array item from the dataset."
      ]
    },
    {
      "cell_type": "code",
      "metadata": {
        "colab": {
          "base_uri": "https://localhost:8080/"
        },
        "id": "XE-sO9xA3-zQ",
        "outputId": "503e15e9-d06b-43ba-d346-0c8d7cdb6da2"
      },
      "source": [
        "print(\"The shape is: \"+str(X_train[0].shape))"
      ],
      "execution_count": null,
      "outputs": [
        {
          "output_type": "stream",
          "text": [
            "The shape is: (48, 48, 3)\n"
          ],
          "name": "stdout"
        }
      ]
    },
    {
      "cell_type": "markdown",
      "metadata": {
        "id": "anPaCmIF4MRG"
      },
      "source": [
        "Therefore, the image is $48x48$ pixels with 3 channels. This information will be kept in consideration to define the architecture of the Models in the following steps."
      ]
    },
    {
      "cell_type": "markdown",
      "metadata": {
        "id": "037WIOVz-y5_"
      },
      "source": [
        "##Patterns visualization"
      ]
    },
    {
      "cell_type": "markdown",
      "metadata": {
        "id": "sOj9dLUoTLAP"
      },
      "source": [
        "First, we split our original dataset into 7 different subsets through a Dictionary, one for each class."
      ]
    },
    {
      "cell_type": "code",
      "metadata": {
        "id": "ljvrz_raPUPM"
      },
      "source": [
        "dataset = {\n",
        "    \"class_0\" : X_train[Y_train==0],\n",
        "    \"class_1\" : X_train[Y_train==1],\n",
        "    \"class_2\" : X_train[Y_train==2],\n",
        "    \"class_3\" : X_train[Y_train==3],\n",
        "    \"class_4\" : X_train[Y_train==4],\n",
        "    \"class_5\" : X_train[Y_train==5],\n",
        "    \"class_6\" : X_train[Y_train==6]\n",
        "}"
      ],
      "execution_count": null,
      "outputs": []
    },
    {
      "cell_type": "markdown",
      "metadata": {
        "id": "6opOJKtPO0kJ"
      },
      "source": [
        "A first intresting information we could get from our dataset is **Average Image**. We will see how the different emotions are highly influenced by face treats (mouth, eyes, eyebrows, ...)"
      ]
    },
    {
      "cell_type": "code",
      "metadata": {
        "colab": {
          "base_uri": "https://localhost:8080/",
          "height": 1000
        },
        "id": "bowa3vjFO_cQ",
        "outputId": "2f6ff147-040d-4e53-9c48-d6dac6387fc2"
      },
      "source": [
        "def mean(datasetClass, title, size = (img_h, img_w, img_c)):\n",
        "    mean_img = np.mean(datasetClass, axis = 0)\n",
        "    plt.imshow(mean_img.astype(np.uint8))\n",
        "    plt.title(f'Average {title}')\n",
        "    plt.axis('off')\n",
        "    plt.show()\n",
        "    return mean_img\n",
        "\n",
        "angry_mean = mean(dataset[\"class_0\"], 'angry')\n",
        "disgust_mean = mean(dataset[\"class_1\"], 'disgust')\n",
        "fear_mean = mean(dataset[\"class_2\"], 'fear')\n",
        "happy_mean = mean(dataset[\"class_3\"], 'happy')\n",
        "sad_mean = mean(dataset[\"class_4\"], 'sad')\n",
        "surprise_mean = mean(dataset[\"class_5\"], 'surprise')\n",
        "neutral_mean = mean(dataset[\"class_6\"], 'neutral')"
      ],
      "execution_count": null,
      "outputs": [
        {
          "output_type": "display_data",
          "data": {
            "image/png": "[encoded data removed]",
            "text/plain": [
              "<Figure size 432x288 with 1 Axes>"
            ]
          },
          "metadata": {
            "tags": [],
            "needs_background": "light"
          }
        },
        {
          "output_type": "display_data",
          "data": {
            "image/png": "[encoded data removed]",
            "text/plain": [
              "<Figure size 432x288 with 1 Axes>"
            ]
          },
          "metadata": {
            "tags": [],
            "needs_background": "light"
          }
        },
        {
          "output_type": "display_data",
          "data": {
            "image/png": "[encoded data removed]",
            "text/plain": [
              "<Figure size 432x288 with 1 Axes>"
            ]
          },
          "metadata": {
            "tags": [],
            "needs_background": "light"
          }
        },
        {
          "output_type": "display_data",
          "data": {
            "image/png": "[encoded data removed]",
            "text/plain": [
              "<Figure size 432x288 with 1 Axes>"
            ]
          },
          "metadata": {
            "tags": [],
            "needs_background": "light"
          }
        },
        {
          "output_type": "display_data",
          "data": {
            "image/png": "[encoded data removed]",
            "text/plain": [
              "<Figure size 432x288 with 1 Axes>"
            ]
          },
          "metadata": {
            "tags": [],
            "needs_background": "light"
          }
        },
        {
          "output_type": "display_data",
          "data": {
            "image/png": "[encoded data removed]",
            "text/plain": [
              "<Figure size 432x288 with 1 Axes>"
            ]
          },
          "metadata": {
            "tags": [],
            "needs_background": "light"
          }
        },
        {
          "output_type": "display_data",
          "data": {
            "image/png": "[encoded data removed]",
            "text/plain": [
              "<Figure size 432x288 with 1 Axes>"
            ]
          },
          "metadata": {
            "tags": [],
            "needs_background": "light"
          }
        }
      ]
    },
    {
      "cell_type": "markdown",
      "metadata": {
        "id": "XnQHdyOKbbUJ"
      },
      "source": [
        "Another information could be the **Contrast between images**. We might consider all the possible combination of classes, but we just show some of them to illustrate this method. We will observe that opposite sentiments shows high difference, while similar sentiments (e.g. negative) show low difference."
      ]
    },
    {
      "cell_type": "code",
      "metadata": {
        "colab": {
          "base_uri": "https://localhost:8080/",
          "height": 758
        },
        "id": "ZmILo-LIcctn",
        "outputId": "1d83677b-587d-41b4-933d-8a52c687b007"
      },
      "source": [
        "contrast_mean = happy_mean - sad_mean\n",
        "plt.imshow(contrast_mean.astype(np.uint8))\n",
        "plt.title(f'Difference Between Happy and Sad Average')\n",
        "plt.axis('off')\n",
        "plt.show()\n",
        "\n",
        "contrast_mean = surprise_mean - neutral_mean\n",
        "plt.imshow(contrast_mean.astype(np.uint8))\n",
        "plt.title(f'Difference Between Surprise and Neutral Average')\n",
        "plt.axis('off')\n",
        "plt.show()\n",
        "\n",
        "contrast_mean = angry_mean - fear_mean\n",
        "plt.imshow(contrast_mean.astype(np.uint8))\n",
        "plt.title(f'Difference Between Angry and Fear Average')\n",
        "plt.axis('off')\n",
        "plt.show()"
      ],
      "execution_count": null,
      "outputs": [
        {
          "output_type": "display_data",
          "data": {
            "image/png": "[encoded data removed]",
            "text/plain": [
              "<Figure size 432x288 with 1 Axes>"
            ]
          },
          "metadata": {
            "tags": [],
            "needs_background": "light"
          }
        },
        {
          "output_type": "display_data",
          "data": {
            "image/png": "[encoded data removed]",
            "text/plain": [
              "<Figure size 432x288 with 1 Axes>"
            ]
          },
          "metadata": {
            "tags": [],
            "needs_background": "light"
          }
        },
        {
          "output_type": "display_data",
          "data": {
            "image/png": "[encoded data removed]",
            "text/plain": [
              "<Figure size 432x288 with 1 Axes>"
            ]
          },
          "metadata": {
            "tags": [],
            "needs_background": "light"
          }
        }
      ]
    },
    {
      "cell_type": "markdown",
      "metadata": {
        "id": "PGEdtiINeZlj"
      },
      "source": [
        "One more analysis can be done on **Variability** analyzing *Standard Deviation*. In particular, we will see how much variability is present for each class through lighter areas."
      ]
    },
    {
      "cell_type": "code",
      "metadata": {
        "colab": {
          "base_uri": "https://localhost:8080/",
          "height": 1000
        },
        "id": "2651-HDnevrm",
        "outputId": "1e020b31-8cf4-4ad4-b680-12dc790878f1"
      },
      "source": [
        "def std(datasetClass, title, size = (img_h, img_w, img_c)):\n",
        "    std_img = np.std(datasetClass, axis = 0)\n",
        "    plt.imshow(std_img.astype(np.uint8))\n",
        "    plt.title(f'Variability {title}')\n",
        "    plt.axis('off')\n",
        "    plt.show()\n",
        "    return std_img\n",
        "\n",
        "angry_mean = std(dataset[\"class_0\"], 'angry')\n",
        "disgust_mean = std(dataset[\"class_1\"], 'disgust')\n",
        "fear_mean = std(dataset[\"class_2\"], 'fear')\n",
        "happy_mean = std(dataset[\"class_3\"], 'happy')\n",
        "sad_mean = std(dataset[\"class_4\"], 'sad')\n",
        "surprise_mean = std(dataset[\"class_5\"], 'surprise')\n",
        "neutral_mean = std(dataset[\"class_6\"], 'neutral')"
      ],
      "execution_count": null,
      "outputs": [
        {
          "output_type": "display_data",
          "data": {
            "image/png": "[encoded data removed]",
            "text/plain": [
              "<Figure size 432x288 with 1 Axes>"
            ]
          },
          "metadata": {
            "tags": [],
            "needs_background": "light"
          }
        },
        {
          "output_type": "display_data",
          "data": {
            "image/png": "[encoded data removed]",
            "text/plain": [
              "<Figure size 432x288 with 1 Axes>"
            ]
          },
          "metadata": {
            "tags": [],
            "needs_background": "light"
          }
        },
        {
          "output_type": "display_data",
          "data": {
            "image/png": "[encoded data removed]",
            "text/plain": [
              "<Figure size 432x288 with 1 Axes>"
            ]
          },
          "metadata": {
            "tags": [],
            "needs_background": "light"
          }
        },
        {
          "output_type": "display_data",
          "data": {
            "image/png": "[encoded data removed]",
            "text/plain": [
              "<Figure size 432x288 with 1 Axes>"
            ]
          },
          "metadata": {
            "tags": [],
            "needs_background": "light"
          }
        },
        {
          "output_type": "display_data",
          "data": {
            "image/png": "[encoded data removed]",
            "text/plain": [
              "<Figure size 432x288 with 1 Axes>"
            ]
          },
          "metadata": {
            "tags": [],
            "needs_background": "light"
          }
        },
        {
          "output_type": "display_data",
          "data": {
            "image/png": "[encoded data removed]",
            "text/plain": [
              "<Figure size 432x288 with 1 Axes>"
            ]
          },
          "metadata": {
            "tags": [],
            "needs_background": "light"
          }
        },
        {
          "output_type": "display_data",
          "data": {
            "image/png": "[encoded data removed]",
            "text/plain": [
              "<Figure size 432x288 with 1 Axes>"
            ]
          },
          "metadata": {
            "tags": [],
            "needs_background": "light"
          }
        }
      ]
    },
    {
      "cell_type": "markdown",
      "metadata": {
        "id": "uP3Naj-xfm6i"
      },
      "source": [
        "A last step of the exploratory Data Analysis is the usage of **Principal Component Analysis** to visualize the components that are more relevant for each class in terms of variability."
      ]
    },
    {
      "cell_type": "code",
      "metadata": {
        "id": "9XXGVRd7f-4G",
        "colab": {
          "base_uri": "https://localhost:8080/",
          "height": 1000
        },
        "outputId": "7f81bfae-dbb6-43a4-e1b9-53226b50a134"
      },
      "source": [
        "from sklearn.decomposition import PCA\n",
        "from math import ceil\n",
        "\n",
        "def eigenimages(datasetClass, title, n_comp = 0.7, size = (img_h, img_w, img_c)):\n",
        "    pca = PCA(n_components = n_comp, whiten = True)\n",
        "    pca.fit(np.reshape(datasetClass, (-1, img_h*img_w*img_c)))\n",
        "    print('Number of PC: ', pca.n_components_)\n",
        "    return pca\n",
        "  \n",
        "def plot_pca(pca, size = (img_h, img_w, img_c)):\n",
        "    n = pca.n_components_\n",
        "    fig = plt.figure(figsize=(8, 8))\n",
        "    r = int(n**.5)\n",
        "    c = ceil(n/ r)\n",
        "    for i in range(n):\n",
        "        ax = fig.add_subplot(r, c, i + 1, xticks = [], yticks = [])\n",
        "        ax.imshow((pca.components_[i].reshape(size)*110).astype(np.uint8), \n",
        "                  cmap='Greys_r')\n",
        "    plt.axis('off')\n",
        "    plt.show()\n",
        "    \n",
        "plot_pca(eigenimages(dataset[\"class_0\"], 'angry'))\n",
        "plot_pca(eigenimages(dataset[\"class_1\"], 'disgust'))\n",
        "plot_pca(eigenimages(dataset[\"class_2\"], 'fear'))\n",
        "plot_pca(eigenimages(dataset[\"class_3\"], 'happy'))\n",
        "plot_pca(eigenimages(dataset[\"class_4\"], 'sad'))\n",
        "plot_pca(eigenimages(dataset[\"class_5\"], 'surprise'))\n",
        "plot_pca(eigenimages(dataset[\"class_6\"], 'neutral'))\n"
      ],
      "execution_count": null,
      "outputs": [
        {
          "output_type": "stream",
          "text": [
            "Number of PC:  14\n"
          ],
          "name": "stdout"
        },
        {
          "output_type": "display_data",
          "data": {
            "image/png": "[encoded data removed]",
            "text/plain": [
              "<Figure size 576x576 with 14 Axes>"
            ]
          },
          "metadata": {
            "tags": []
          }
        },
        {
          "output_type": "stream",
          "text": [
            "Number of PC:  10\n"
          ],
          "name": "stdout"
        },
        {
          "output_type": "display_data",
          "data": {
            "image/png": "[encoded data removed]",
            "text/plain": [
              "<Figure size 576x576 with 10 Axes>"
            ]
          },
          "metadata": {
            "tags": []
          }
        },
        {
          "output_type": "stream",
          "text": [
            "Number of PC:  15\n"
          ],
          "name": "stdout"
        },
        {
          "output_type": "display_data",
          "data": {
            "image/png": "[encoded data removed]",
            "text/plain": [
              "<Figure size 576x576 with 15 Axes>"
            ]
          },
          "metadata": {
            "tags": []
          }
        },
        {
          "output_type": "stream",
          "text": [
            "Number of PC:  13\n"
          ],
          "name": "stdout"
        },
        {
          "output_type": "display_data",
          "data": {
            "image/png": "[encoded data removed]",
            "text/plain": [
              "<Figure size 576x576 with 13 Axes>"
            ]
          },
          "metadata": {
            "tags": []
          }
        },
        {
          "output_type": "stream",
          "text": [
            "Number of PC:  14\n"
          ],
          "name": "stdout"
        },
        {
          "output_type": "display_data",
          "data": {
            "image/png": "[encoded data removed]",
            "text/plain": [
              "<Figure size 576x576 with 14 Axes>"
            ]
          },
          "metadata": {
            "tags": []
          }
        },
        {
          "output_type": "stream",
          "text": [
            "Number of PC:  14\n"
          ],
          "name": "stdout"
        },
        {
          "output_type": "display_data",
          "data": {
            "image/png": "[encoded data removed]",
            "text/plain": [
              "<Figure size 576x576 with 14 Axes>"
            ]
          },
          "metadata": {
            "tags": []
          }
        },
        {
          "output_type": "stream",
          "text": [
            "Number of PC:  12\n"
          ],
          "name": "stdout"
        },
        {
          "output_type": "display_data",
          "data": {
            "image/png": "[encoded data removed]",
            "text/plain": [
              "<Figure size 576x576 with 12 Axes>"
            ]
          },
          "metadata": {
            "tags": []
          }
        }
      ]
    },
    {
      "cell_type": "markdown",
      "metadata": {
        "id": "xMDo2UawhkZ9"
      },
      "source": [
        "# Models "
      ]
    },
    {
      "cell_type": "markdown",
      "metadata": {
        "id": "VGl6oaT4W_iL"
      },
      "source": [
        "###First model: Support Vector Machine"
      ]
    },
    {
      "cell_type": "markdown",
      "metadata": {
        "id": "7xUzmhIoYkxI"
      },
      "source": [
        "The first model proposed to solve our challenge is a *Support Vector Machine* trained on our dataset to recognize one of the 7 different emotions given a specific image. We first import all the necessary libraries, that are different than the ones used for the remaining four NN Models. In particular, the model is implemented using *scikit-learn*."
      ]
    },
    {
      "cell_type": "code",
      "metadata": {
        "id": "3F10BHnJZSM7"
      },
      "source": [
        "import matplotlib as mpl\n",
        "from skimage.feature import hog\n",
        "from skimage.color import rgb2grey\n",
        "from sklearn.model_selection import train_test_split\n",
        "from sklearn.metrics import accuracy_score\n",
        "from sklearn.preprocessing import StandardScaler\n",
        "from sklearn.decomposition import PCA\n",
        "from sklearn.svm import LinearSVC"
      ],
      "execution_count": null,
      "outputs": []
    },
    {
      "cell_type": "markdown",
      "metadata": {
        "id": "jts_2a-jZdYH"
      },
      "source": [
        "Here we define a function *create_features* which takes the 3-channel image from our dataset, processes it in order to get a flatten version and the *Histogram of oriented gradients*, then combines them."
      ]
    },
    {
      "cell_type": "code",
      "metadata": {
        "id": "hbNkx6TRZhUI"
      },
      "source": [
        "def create_features(img):\n",
        "    features = img.flatten()\n",
        "    grey_image = rgb2grey(img)\n",
        "    hog_features = hog(grey_image, block_norm='L2-Hys', pixels_per_cell=(16, 16))\n",
        "    flat_features = np.hstack(features)\n",
        "    return flat_features"
      ],
      "execution_count": null,
      "outputs": []
    },
    {
      "cell_type": "markdown",
      "metadata": {
        "id": "CY-B08Lya6cn"
      },
      "source": [
        "Then, another function is defined to iterate our dataset and create an array of processed images using the function defined above."
      ]
    },
    {
      "cell_type": "code",
      "metadata": {
        "id": "J4Kpwxa7bCfv"
      },
      "source": [
        "def create_feature_matrix(X_train):\n",
        "    features_list = []    \n",
        "    for img in tqdm(X_train):\n",
        "        image_features = create_features(img)\n",
        "        features_list.append(image_features)        \n",
        "    feature_matrix = np.array(features_list)\n",
        "    return feature_matrix"
      ],
      "execution_count": null,
      "outputs": []
    },
    {
      "cell_type": "markdown",
      "metadata": {
        "id": "1Q2Yb2jSbjru"
      },
      "source": [
        "Here we actually create our Numpy array from the given dataset."
      ]
    },
    {
      "cell_type": "code",
      "metadata": {
        "colab": {
          "base_uri": "https://localhost:8080/"
        },
        "id": "oxXM8YkxbcEO",
        "outputId": "836233c7-8082-48fe-fda5-4221481ec9e1"
      },
      "source": [
        "feature_matrix = create_feature_matrix(X_train)"
      ],
      "execution_count": null,
      "outputs": [
        {
          "output_type": "stream",
          "text": [
            "100%|██████████| 30503/30503 [09:40<00:00, 52.55it/s]\n"
          ],
          "name": "stderr"
        }
      ]
    },
    {
      "cell_type": "markdown",
      "metadata": {
        "id": "PhqjtLtWbU22"
      },
      "source": [
        "Next the dataset is standardized and processed using Principal Component Analysis in order to reduce the number of features, choosing the most releavant."
      ]
    },
    {
      "cell_type": "code",
      "metadata": {
        "id": "cvoaMLmebwfO"
      },
      "source": [
        "ss = StandardScaler()\n",
        "X_train_stand = ss.fit_transform(feature_matrix)\n",
        "pca = PCA(n_components=500)\n",
        "X_train_pca = ss.fit_transform(X_train_stand)"
      ],
      "execution_count": null,
      "outputs": []
    },
    {
      "cell_type": "markdown",
      "metadata": {
        "id": "E-OD77cJcL9v"
      },
      "source": [
        "Then the dataset is split into *train* and *test*."
      ]
    },
    {
      "cell_type": "code",
      "metadata": {
        "id": "mXVRdKExcMTt"
      },
      "source": [
        "X = pd.DataFrame(X_train_pca)\n",
        "y = pd.Series(Y_train)\n",
        "X_train, X_test, y_train, y_test = train_test_split(X, y, test_size=.3, random_state=1234123)"
      ],
      "execution_count": null,
      "outputs": []
    },
    {
      "cell_type": "markdown",
      "metadata": {
        "id": "aQLfFpCpc9xd"
      },
      "source": [
        "Now it's time to train our SVM using our dataset."
      ]
    },
    {
      "cell_type": "code",
      "metadata": {
        "id": "l2uYPVc2c-PR"
      },
      "source": [
        "model1 = LinearSVC()\n",
        "model1.fit(X_train, y_train)"
      ],
      "execution_count": null,
      "outputs": []
    },
    {
      "cell_type": "markdown",
      "metadata": {
        "id": "ZXSqjYl7dWad"
      },
      "source": [
        "Finally we check the *test* accuracy."
      ]
    },
    {
      "cell_type": "code",
      "metadata": {
        "id": "EZiKppWiddT0",
        "colab": {
          "base_uri": "https://localhost:8080/"
        },
        "outputId": "297c9325-c1c3-4a6c-cea5-9a6c195cb6b9"
      },
      "source": [
        "y_pred = model1.predict(X_test)\n",
        "accuracy = accuracy_score(y_test, y_pred)\n",
        "print('Model accuracy is: ', accuracy)"
      ],
      "execution_count": null,
      "outputs": [
        {
          "output_type": "stream",
          "text": [
            "Model accuracy is:  0.2777838487596984\n"
          ],
          "name": "stdout"
        }
      ]
    },
    {
      "cell_type": "markdown",
      "metadata": {
        "id": "EEO7geFOeGJK"
      },
      "source": [
        "##Neural networks approach"
      ]
    },
    {
      "cell_type": "markdown",
      "metadata": {
        "id": "5PYqjQlVhkZ9"
      },
      "source": [
        "Let's define some parameters useful for our NN models."
      ]
    },
    {
      "cell_type": "code",
      "metadata": {
        "id": "sd-cQxurhkZ-"
      },
      "source": [
        "EPOCHS = 50\n",
        "BATCH_SIZE = 64\n",
        "VERBOSE = 1\n",
        "NB_CLASSES = 7\n",
        "N_HIDDEN = 512\n",
        "VALIDATION_SPLIT = 0.1\n",
        "TEST_SPLIT = 0.1"
      ],
      "execution_count": null,
      "outputs": []
    },
    {
      "cell_type": "markdown",
      "metadata": {
        "id": "PaFyZDRPhkaF"
      },
      "source": [
        "### Second model: Multilayer Perceptron Neural Network"
      ]
    },
    {
      "cell_type": "markdown",
      "metadata": {
        "id": "Ep-H2gaRTmge"
      },
      "source": [
        "A second model to execute our task of image classification is a MultiLayer Perceptron Neural Network. Let's define some functions to process our data in order to be suitable for feeding our NN."
      ]
    },
    {
      "cell_type": "code",
      "metadata": {
        "id": "iEva9JXlUJOt"
      },
      "source": [
        "def preProcessMLP(X_train, Y_train):\n",
        "  X_tensor = tf.convert_to_tensor(X_train, dtype=tf.uint8) \n",
        "  items_size = X_tensor.shape[0]\n",
        "  test_size = round(items_size * TEST_SPLIT)\n",
        "  train_size = items_size - test_size\n",
        "  X_tensor_test = X_tensor[train_size:train_size+test_size]\n",
        "  X_tensor_train = X_tensor[:train_size]\n",
        "  Y_tensor_test = Y_train[train_size:train_size+test_size]\n",
        "  Y_tensor_train = Y_train[:train_size]\n",
        "  X_tensor_train = tf.reshape(X_tensor_train, [train_size, -1])\n",
        "  X_tensor_test = tf.reshape(X_tensor_test, [test_size, -1])\n",
        "\n",
        "  return X_tensor_train, X_tensor_test, Y_tensor_train, Y_tensor_test\n"
      ],
      "execution_count": null,
      "outputs": []
    },
    {
      "cell_type": "markdown",
      "metadata": {
        "id": "MAtaWLlQhkaG"
      },
      "source": [
        "Now it's time to execute the preprocessing:"
      ]
    },
    {
      "cell_type": "code",
      "metadata": {
        "id": "Yr7uQHxKhkaG"
      },
      "source": [
        "X_train, X_test, Y_train, Y_test = preProcessMLP(X_train, Y_train)"
      ],
      "execution_count": null,
      "outputs": []
    },
    {
      "cell_type": "markdown",
      "metadata": {
        "id": "O01Wi2-ihkaH"
      },
      "source": [
        "And also normalizing the two datasets:"
      ]
    },
    {
      "cell_type": "code",
      "metadata": {
        "id": "ikQgjaoehkaI"
      },
      "source": [
        "X_train /= 255\n",
        "X_test /= 255"
      ],
      "execution_count": null,
      "outputs": []
    },
    {
      "cell_type": "markdown",
      "metadata": {
        "id": "v0hDleLvhkaK"
      },
      "source": [
        "An useful tool to elaborate the dataset is One hot encoding:"
      ]
    },
    {
      "cell_type": "code",
      "metadata": {
        "id": "AHaWDgmqhkaL"
      },
      "source": [
        "Y_train = keras.utils.to_categorical(Y_train, NB_CLASSES)\n",
        "Y_test = keras.utils.to_categorical(Y_test, NB_CLASSES)"
      ],
      "execution_count": null,
      "outputs": []
    },
    {
      "cell_type": "markdown",
      "metadata": {
        "id": "DYEHw2cShkaL"
      },
      "source": [
        "Now let's define the model!"
      ]
    },
    {
      "cell_type": "code",
      "metadata": {
        "id": "28IFHI9fhkaL"
      },
      "source": [
        "model2 = tf.keras.models.Sequential()\n",
        "model2.add(keras.layers.Dense(N_HIDDEN*4, input_shape=(X_train.shape[1], ), activation='relu'))\n",
        "model2.add(keras.layers.Dense(N_HIDDEN*2, activation='relu'))\n",
        "model2.add(keras.layers.Dense(N_HIDDEN, activation='relu'))\n",
        "model2.add(keras.layers.Dense(NB_CLASSES, activation='softmax'))"
      ],
      "execution_count": null,
      "outputs": []
    },
    {
      "cell_type": "code",
      "metadata": {
        "id": "Gza1BtcwhkaM",
        "colab": {
          "base_uri": "https://localhost:8080/"
        },
        "outputId": "aa0097a8-e9a5-4d2f-812d-c535da838b25"
      },
      "source": [
        "model2.summary()"
      ],
      "execution_count": null,
      "outputs": [
        {
          "output_type": "stream",
          "text": [
            "Model: \"sequential_1\"\n",
            "_________________________________________________________________\n",
            "Layer (type)                 Output Shape              Param #   \n",
            "=================================================================\n",
            "dense (Dense)                (None, 2048)              14157824  \n",
            "_________________________________________________________________\n",
            "dense_1 (Dense)              (None, 1024)              2098176   \n",
            "_________________________________________________________________\n",
            "dense_2 (Dense)              (None, 512)               524800    \n",
            "_________________________________________________________________\n",
            "dense_3 (Dense)              (None, 7)                 3591      \n",
            "=================================================================\n",
            "Total params: 16,784,391\n",
            "Trainable params: 16,784,391\n",
            "Non-trainable params: 0\n",
            "_________________________________________________________________\n"
          ],
          "name": "stdout"
        }
      ]
    },
    {
      "cell_type": "markdown",
      "metadata": {
        "id": "jAyHjkXTXMCD"
      },
      "source": [
        "Here we define the optimizer and also some tools to manage overfitting:"
      ]
    },
    {
      "cell_type": "code",
      "metadata": {
        "id": "_fsLnJBChkaN"
      },
      "source": [
        "opt = tf.keras.optimizers.Adam(learning_rate=0.001)\n",
        "model2.compile(opt, loss='categorical_crossentropy', metrics=['accuracy'])\n",
        "lrd = tf.keras.callbacks.ReduceLROnPlateau(monitor = 'val_loss', patience = 20, verbose = 1, factor = 0.50, min_lr = 1e-10)\n",
        "es = tf.keras.callbacks.EarlyStopping(verbose=1, patience=20)"
      ],
      "execution_count": null,
      "outputs": []
    },
    {
      "cell_type": "markdown",
      "metadata": {
        "id": "_cxAhn0bWb5j"
      },
      "source": [
        "Here we train the model defined above, splitting the initial training dataset into *training* and *validation*:"
      ]
    },
    {
      "cell_type": "code",
      "metadata": {
        "id": "3vGWUvO9hkaP",
        "colab": {
          "base_uri": "https://localhost:8080/"
        },
        "outputId": "967ec260-b881-4249-bffb-ad1be94bd2e6"
      },
      "source": [
        "history = model2.fit(X_train, Y_train, batch_size=BATCH_SIZE, epochs=EPOCHS, verbose=VERBOSE, validation_split=VALIDATION_SPLIT, callbacks=[lrd,es])"
      ],
      "execution_count": null,
      "outputs": [
        {
          "output_type": "stream",
          "text": [
            "Epoch 1/50\n",
            "387/387 [==============================] - 3s 7ms/step - loss: 2.1647 - accuracy: 0.2506 - val_loss: 1.8088 - val_accuracy: 0.2160\n",
            "Epoch 2/50\n",
            "387/387 [==============================] - 2s 6ms/step - loss: 1.7198 - accuracy: 0.3142 - val_loss: 1.7796 - val_accuracy: 0.2680\n",
            "Epoch 3/50\n",
            "387/387 [==============================] - 2s 6ms/step - loss: 1.6716 - accuracy: 0.3374 - val_loss: 1.7707 - val_accuracy: 0.2775\n",
            "Epoch 4/50\n",
            "387/387 [==============================] - 2s 6ms/step - loss: 1.6587 - accuracy: 0.3443 - val_loss: 1.6603 - val_accuracy: 0.3481\n",
            "Epoch 5/50\n",
            "387/387 [==============================] - 3s 6ms/step - loss: 1.6344 - accuracy: 0.3572 - val_loss: 1.6068 - val_accuracy: 0.3744\n",
            "Epoch 6/50\n",
            "387/387 [==============================] - 3s 7ms/step - loss: 1.6244 - accuracy: 0.3649 - val_loss: 1.6419 - val_accuracy: 0.3711\n",
            "Epoch 7/50\n",
            "387/387 [==============================] - 2s 6ms/step - loss: 1.6185 - accuracy: 0.3637 - val_loss: 1.6247 - val_accuracy: 0.3693\n",
            "Epoch 8/50\n",
            "387/387 [==============================] - 2s 6ms/step - loss: 1.6046 - accuracy: 0.3667 - val_loss: 1.8125 - val_accuracy: 0.3154\n",
            "Epoch 9/50\n",
            "387/387 [==============================] - 3s 7ms/step - loss: 1.6141 - accuracy: 0.3674 - val_loss: 1.6110 - val_accuracy: 0.3711\n",
            "Epoch 10/50\n",
            "387/387 [==============================] - 2s 6ms/step - loss: 1.5960 - accuracy: 0.3695 - val_loss: 1.5794 - val_accuracy: 0.3962\n",
            "Epoch 11/50\n",
            "387/387 [==============================] - 2s 6ms/step - loss: 1.5824 - accuracy: 0.3804 - val_loss: 1.6231 - val_accuracy: 0.3736\n",
            "Epoch 12/50\n",
            "387/387 [==============================] - 2s 6ms/step - loss: 1.5777 - accuracy: 0.3793 - val_loss: 1.5834 - val_accuracy: 0.3882\n",
            "Epoch 13/50\n",
            "387/387 [==============================] - 2s 6ms/step - loss: 1.5765 - accuracy: 0.3805 - val_loss: 1.5971 - val_accuracy: 0.3853\n",
            "Epoch 14/50\n",
            "387/387 [==============================] - 2s 6ms/step - loss: 1.5680 - accuracy: 0.3849 - val_loss: 1.5834 - val_accuracy: 0.3878\n",
            "Epoch 15/50\n",
            "387/387 [==============================] - 2s 6ms/step - loss: 1.5620 - accuracy: 0.3893 - val_loss: 1.5796 - val_accuracy: 0.3871\n",
            "Epoch 16/50\n",
            "387/387 [==============================] - 2s 6ms/step - loss: 1.5633 - accuracy: 0.3894 - val_loss: 1.5768 - val_accuracy: 0.3937\n",
            "Epoch 17/50\n",
            "387/387 [==============================] - 2s 6ms/step - loss: 1.5513 - accuracy: 0.3909 - val_loss: 1.5901 - val_accuracy: 0.3878\n",
            "Epoch 18/50\n",
            "387/387 [==============================] - 2s 6ms/step - loss: 1.5470 - accuracy: 0.3926 - val_loss: 1.5947 - val_accuracy: 0.3911\n",
            "Epoch 19/50\n",
            "387/387 [==============================] - 2s 6ms/step - loss: 1.5429 - accuracy: 0.3942 - val_loss: 1.5660 - val_accuracy: 0.3926\n",
            "Epoch 20/50\n",
            "387/387 [==============================] - 2s 6ms/step - loss: 1.5389 - accuracy: 0.3979 - val_loss: 1.7228 - val_accuracy: 0.3631\n",
            "Epoch 21/50\n",
            "387/387 [==============================] - 2s 6ms/step - loss: 1.5442 - accuracy: 0.3935 - val_loss: 1.6210 - val_accuracy: 0.3664\n",
            "Epoch 22/50\n",
            "387/387 [==============================] - 2s 6ms/step - loss: 1.5225 - accuracy: 0.4020 - val_loss: 1.6221 - val_accuracy: 0.3733\n",
            "Epoch 23/50\n",
            "387/387 [==============================] - 2s 6ms/step - loss: 1.5231 - accuracy: 0.4031 - val_loss: 1.5576 - val_accuracy: 0.3995\n",
            "Epoch 24/50\n",
            "387/387 [==============================] - 2s 6ms/step - loss: 1.5117 - accuracy: 0.4085 - val_loss: 1.6010 - val_accuracy: 0.3853\n",
            "Epoch 25/50\n",
            "387/387 [==============================] - 3s 7ms/step - loss: 1.5052 - accuracy: 0.4114 - val_loss: 1.5874 - val_accuracy: 0.3937\n",
            "Epoch 26/50\n",
            "387/387 [==============================] - 3s 7ms/step - loss: 1.5014 - accuracy: 0.4142 - val_loss: 1.5833 - val_accuracy: 0.3849\n",
            "Epoch 27/50\n",
            "387/387 [==============================] - 2s 6ms/step - loss: 1.4926 - accuracy: 0.4154 - val_loss: 1.5941 - val_accuracy: 0.3813\n",
            "Epoch 28/50\n",
            "387/387 [==============================] - 2s 6ms/step - loss: 1.4861 - accuracy: 0.4189 - val_loss: 1.6200 - val_accuracy: 0.3729\n",
            "Epoch 29/50\n",
            "387/387 [==============================] - 2s 6ms/step - loss: 1.4816 - accuracy: 0.4211 - val_loss: 1.5893 - val_accuracy: 0.3918\n",
            "Epoch 30/50\n",
            "387/387 [==============================] - 3s 7ms/step - loss: 1.4805 - accuracy: 0.4221 - val_loss: 1.5898 - val_accuracy: 0.3846\n",
            "Epoch 31/50\n",
            "387/387 [==============================] - 3s 7ms/step - loss: 1.4690 - accuracy: 0.4267 - val_loss: 1.6614 - val_accuracy: 0.3463\n",
            "Epoch 32/50\n",
            "387/387 [==============================] - 2s 6ms/step - loss: 1.4869 - accuracy: 0.4173 - val_loss: 1.6553 - val_accuracy: 0.3682\n",
            "Epoch 33/50\n",
            "387/387 [==============================] - 3s 7ms/step - loss: 1.4660 - accuracy: 0.4260 - val_loss: 1.5923 - val_accuracy: 0.3857\n",
            "Epoch 34/50\n",
            "387/387 [==============================] - 2s 6ms/step - loss: 1.4574 - accuracy: 0.4285 - val_loss: 1.6260 - val_accuracy: 0.3769\n",
            "Epoch 35/50\n",
            "387/387 [==============================] - 2s 6ms/step - loss: 1.4492 - accuracy: 0.4375 - val_loss: 1.5947 - val_accuracy: 0.3918\n",
            "Epoch 36/50\n",
            "387/387 [==============================] - 2s 6ms/step - loss: 1.4298 - accuracy: 0.4420 - val_loss: 1.6442 - val_accuracy: 0.3664\n",
            "Epoch 37/50\n",
            "387/387 [==============================] - 2s 6ms/step - loss: 1.4319 - accuracy: 0.4407 - val_loss: 1.6825 - val_accuracy: 0.3693\n",
            "Epoch 38/50\n",
            "387/387 [==============================] - 2s 6ms/step - loss: 1.4224 - accuracy: 0.4434 - val_loss: 1.6057 - val_accuracy: 0.3911\n",
            "Epoch 39/50\n",
            "387/387 [==============================] - 2s 6ms/step - loss: 1.4080 - accuracy: 0.4490 - val_loss: 1.6498 - val_accuracy: 0.3736\n",
            "Epoch 40/50\n",
            "387/387 [==============================] - 2s 6ms/step - loss: 1.3963 - accuracy: 0.4560 - val_loss: 1.6220 - val_accuracy: 0.3889\n",
            "Epoch 41/50\n",
            "387/387 [==============================] - 2s 6ms/step - loss: 1.4008 - accuracy: 0.4519 - val_loss: 1.6620 - val_accuracy: 0.3798\n",
            "Epoch 42/50\n",
            "387/387 [==============================] - 2s 6ms/step - loss: 1.3818 - accuracy: 0.4635 - val_loss: 1.6365 - val_accuracy: 0.3791\n",
            "Epoch 43/50\n",
            "387/387 [==============================] - 2s 6ms/step - loss: 1.3682 - accuracy: 0.4678 - val_loss: 1.6711 - val_accuracy: 0.3824\n",
            "\n",
            "Epoch 00043: ReduceLROnPlateau reducing learning rate to 0.0005000000237487257.\n",
            "Epoch 00043: early stopping\n"
          ],
          "name": "stdout"
        }
      ]
    },
    {
      "cell_type": "markdown",
      "metadata": {
        "id": "xUiukS73Z4B1"
      },
      "source": [
        "Here we plot the information about *loss* and *accuracy* of our trained model:"
      ]
    },
    {
      "cell_type": "code",
      "metadata": {
        "colab": {
          "base_uri": "https://localhost:8080/",
          "height": 573
        },
        "id": "Xuj78GxHaBVb",
        "outputId": "57057709-09d6-49cf-9c4f-96a183a35917"
      },
      "source": [
        "plotAccuracy(history)\n",
        "plotLoss(history)"
      ],
      "execution_count": null,
      "outputs": [
        {
          "output_type": "display_data",
          "data": {
            "image/png": "[encoded data removed]",
            "text/plain": [
              "<Figure size 432x288 with 1 Axes>"
            ]
          },
          "metadata": {
            "tags": [],
            "needs_background": "light"
          }
        },
        {
          "output_type": "display_data",
          "data": {
            "image/png": "[encoded data removed]",
            "text/plain": [
              "<Figure size 432x288 with 1 Axes>"
            ]
          },
          "metadata": {
            "tags": [],
            "needs_background": "light"
          }
        }
      ]
    },
    {
      "cell_type": "markdown",
      "metadata": {
        "id": "BjAAKryxaS4k"
      },
      "source": [
        "Finally we print performances on *test set*:\n"
      ]
    },
    {
      "cell_type": "code",
      "metadata": {
        "id": "TBtIl3e2hkaQ",
        "colab": {
          "base_uri": "https://localhost:8080/"
        },
        "outputId": "996b7c6a-c941-4aeb-fc16-09fbeab787c3"
      },
      "source": [
        "test_loss, test_acc = model2.evaluate(X_test, Y_test)\n",
        "print('Test accuracy:', test_acc)"
      ],
      "execution_count": null,
      "outputs": [
        {
          "output_type": "stream",
          "text": [
            "96/96 [==============================] - 0s 3ms/step - loss: 1.6322 - accuracy: 0.3872\n",
            "Test accuracy: 0.3872131109237671\n"
          ],
          "name": "stdout"
        }
      ]
    },
    {
      "cell_type": "markdown",
      "metadata": {
        "id": "hoiygacWhkaR"
      },
      "source": [
        "### Third Model: a first version of a Convolutional Neural Network"
      ]
    },
    {
      "cell_type": "markdown",
      "metadata": {
        "id": "MGwOywx8fadG"
      },
      "source": [
        "First, we read again our dataset from binary files"
      ]
    },
    {
      "cell_type": "code",
      "metadata": {
        "id": "3k6fJByUffXi"
      },
      "source": [
        "X_train = np.load(\"/content/drive/MyDrive/Machine Learning Competition/datasetTrain.npy\")\n",
        "X_test_label = np.load(\"/content/drive/MyDrive/Machine Learning Competition/datasetTest.npy\")\n",
        "Y_train = readCSVLabels(training_csv_dir)"
      ],
      "execution_count": null,
      "outputs": []
    },
    {
      "cell_type": "markdown",
      "metadata": {
        "id": "jvzu5qeIMUZ6"
      },
      "source": [
        "Here we define a function to Process the read train dataset to get a correct split:"
      ]
    },
    {
      "cell_type": "code",
      "metadata": {
        "id": "ttLSf3EzLVmd"
      },
      "source": [
        "def preProcessCNN(X_train, Y_train):\n",
        "  items_size = X_train.shape[0]\n",
        "  test_size = round(items_size * TEST_SPLIT)\n",
        "  train_size = items_size - test_size\n",
        "  X_test = X_train[train_size:train_size+test_size]\n",
        "  X_train = X_train[:train_size]\n",
        "  Y_test = Y_train[train_size:train_size+test_size]\n",
        "  Y_train = Y_train[:train_size]\n",
        "  return X_train, X_test, Y_train, Y_test"
      ],
      "execution_count": null,
      "outputs": []
    },
    {
      "cell_type": "markdown",
      "metadata": {
        "id": "pt1-kNzgMiTc"
      },
      "source": [
        "Then we actually read the content into the variables"
      ]
    },
    {
      "cell_type": "code",
      "metadata": {
        "id": "j6xH_-I9L23z"
      },
      "source": [
        "X_train, X_test, Y_train, Y_test = preProcessCNN(X_train, Y_train)"
      ],
      "execution_count": null,
      "outputs": []
    },
    {
      "cell_type": "markdown",
      "metadata": {
        "id": "PIC7tlMFhkaT"
      },
      "source": [
        "Labels are managed using One hot encoding"
      ]
    },
    {
      "cell_type": "code",
      "metadata": {
        "id": "hcxxIMPyhkaU"
      },
      "source": [
        "Y_train = keras.utils.to_categorical(Y_train, NB_CLASSES)\n",
        "Y_test = keras.utils.to_categorical(Y_test, NB_CLASSES)"
      ],
      "execution_count": null,
      "outputs": []
    },
    {
      "cell_type": "markdown",
      "metadata": {
        "id": "yNNyHUS1M5Pr"
      },
      "source": [
        "Here we define an *ImageDataGenerator* to do an augmentation of our dataset through a series if transforms. The operation is executed on *train*, *validation* and *test* datasets."
      ]
    },
    {
      "cell_type": "code",
      "metadata": {
        "id": "GE0IDlEqMx_F"
      },
      "source": [
        "train_datagen = ImageDataGenerator(rescale = 1./255, validation_split = VALIDATION_SPLIT, rotation_range=5, width_shift_range=0.2, height_shift_range=0.2, shear_range=0.2, horizontal_flip=True, vertical_flip=True, fill_mode='nearest')\n",
        "valid_datagen = ImageDataGenerator(rescale = 1./255, validation_split = VALIDATION_SPLIT)\n",
        "test_datagen  = ImageDataGenerator(rescale = 1./255)"
      ],
      "execution_count": null,
      "outputs": []
    },
    {
      "cell_type": "markdown",
      "metadata": {
        "id": "Mi8zoc4FOUyS"
      },
      "source": [
        "Next, we define the flow for our three datasets to charge data in batches:"
      ]
    },
    {
      "cell_type": "code",
      "metadata": {
        "id": "Cvj2fu0DN6AS"
      },
      "source": [
        "iterator_train = train_datagen.flow(X_train, Y_train, batch_size=BATCH_SIZE, subset='training')\n",
        "iterator_valid = valid_datagen.flow(X_train, Y_train, batch_size=BATCH_SIZE, subset='validation')\n",
        "iterator_test = test_datagen.flow(X_test, Y_test)"
      ],
      "execution_count": null,
      "outputs": []
    },
    {
      "cell_type": "markdown",
      "metadata": {
        "id": "iMl0KBRHRx4q"
      },
      "source": [
        "Here we define our model:"
      ]
    },
    {
      "cell_type": "code",
      "metadata": {
        "id": "g2BWg_1IhkaV"
      },
      "source": [
        "model3 = tf.keras.models.Sequential()\n",
        "model3.add(keras.layers.Conv2D(64, kernel_size=(3, 3), activation='relu', input_shape=(img_h, img_w, img_c)))\n",
        "model3.add(keras.layers.BatchNormalization())\n",
        "model3.add(keras.layers.MaxPooling2D(pool_size=(2,2), strides=(2,2)))\n",
        "model3.add(keras.layers.Dropout(0.30))\n",
        "\n",
        "model3.add(keras.layers.Conv2D(128, (3, 3), activation='relu'))\n",
        "model3.add(keras.layers.BatchNormalization())\n",
        "model3.add(keras.layers.MaxPooling2D(pool_size=(2,2), strides=(2,2)))\n",
        "model3.add(keras.layers.Dropout(0.30))\n",
        "\n",
        "model3.add(keras.layers.Conv2D(256, (3, 3), activation='relu'))\n",
        "model3.add(keras.layers.BatchNormalization())\n",
        "model3.add(keras.layers.MaxPooling2D(pool_size=(2,2), strides=(2,2)))\n",
        "model3.add(keras.layers.Dropout(0.30))\n",
        "\n",
        "model3.add(keras.layers.Flatten())\n",
        "model3.add(keras.layers.Dense(4096, activation='relu'))\n",
        "model3.add(keras.layers.Dropout(0.50))\n",
        "model3.add(keras.layers.Dense(1024, activation='relu'))\n",
        "model3.add(keras.layers.Dropout(0.50))\n",
        "\n",
        "model3.add(keras.layers.Dense(NB_CLASSES, activation='softmax'))"
      ],
      "execution_count": null,
      "outputs": []
    },
    {
      "cell_type": "code",
      "metadata": {
        "id": "giNzXLonhkaf",
        "colab": {
          "base_uri": "https://localhost:8080/"
        },
        "outputId": "52948d74-8228-44e9-9d0d-56f8670992d2"
      },
      "source": [
        "model3.summary()"
      ],
      "execution_count": null,
      "outputs": [
        {
          "output_type": "stream",
          "text": [
            "Model: \"sequential_5\"\n",
            "_________________________________________________________________\n",
            "Layer (type)                 Output Shape              Param #   \n",
            "=================================================================\n",
            "conv2d_8 (Conv2D)            (None, 46, 46, 64)        1792      \n",
            "_________________________________________________________________\n",
            "batch_normalization_8 (Batch (None, 46, 46, 64)        256       \n",
            "_________________________________________________________________\n",
            "max_pooling2d_4 (MaxPooling2 (None, 23, 23, 64)        0         \n",
            "_________________________________________________________________\n",
            "dropout_5 (Dropout)          (None, 23, 23, 64)        0         \n",
            "_________________________________________________________________\n",
            "conv2d_9 (Conv2D)            (None, 21, 21, 128)       73856     \n",
            "_________________________________________________________________\n",
            "batch_normalization_9 (Batch (None, 21, 21, 128)       512       \n",
            "_________________________________________________________________\n",
            "max_pooling2d_5 (MaxPooling2 (None, 10, 10, 128)       0         \n",
            "_________________________________________________________________\n",
            "dropout_6 (Dropout)          (None, 10, 10, 128)       0         \n",
            "_________________________________________________________________\n",
            "conv2d_10 (Conv2D)           (None, 8, 8, 256)         295168    \n",
            "_________________________________________________________________\n",
            "batch_normalization_10 (Batc (None, 8, 8, 256)         1024      \n",
            "_________________________________________________________________\n",
            "max_pooling2d_6 (MaxPooling2 (None, 4, 4, 256)         0         \n",
            "_________________________________________________________________\n",
            "dropout_7 (Dropout)          (None, 4, 4, 256)         0         \n",
            "_________________________________________________________________\n",
            "flatten_5 (Flatten)          (None, 4096)              0         \n",
            "_________________________________________________________________\n",
            "dense_10 (Dense)             (None, 4096)              16781312  \n",
            "_________________________________________________________________\n",
            "dropout_8 (Dropout)          (None, 4096)              0         \n",
            "_________________________________________________________________\n",
            "dense_11 (Dense)             (None, 1024)              4195328   \n",
            "_________________________________________________________________\n",
            "dropout_9 (Dropout)          (None, 1024)              0         \n",
            "_________________________________________________________________\n",
            "dense_12 (Dense)             (None, 7)                 7175      \n",
            "=================================================================\n",
            "Total params: 21,356,423\n",
            "Trainable params: 21,355,527\n",
            "Non-trainable params: 896\n",
            "_________________________________________________________________\n"
          ],
          "name": "stdout"
        }
      ]
    },
    {
      "cell_type": "markdown",
      "metadata": {
        "id": "Dz2HqQj7R7DV"
      },
      "source": [
        "Here we define the optimizer and also some tools to manage overfitting:"
      ]
    },
    {
      "cell_type": "code",
      "metadata": {
        "id": "nLWuXSRihka3"
      },
      "source": [
        "lrd = tf.keras.callbacks.ReduceLROnPlateau(monitor = 'val_loss', patience = 20, verbose = 1, factor = 0.50, min_lr = 1e-10)\n",
        "es = tf.keras.callbacks.EarlyStopping(verbose=1, patience=20)\n",
        "METRICS = [tf.keras.metrics.BinaryAccuracy(name='accuracy')]\n",
        "model3.compile(optimizer='Adam', loss='categorical_crossentropy', metrics=METRICS)"
      ],
      "execution_count": null,
      "outputs": []
    },
    {
      "cell_type": "markdown",
      "metadata": {
        "id": "_yDWPMjuSCHS"
      },
      "source": [
        "Here we train the model defined above, splitting the initial training dataset into *training* and *validation*:"
      ]
    },
    {
      "cell_type": "code",
      "metadata": {
        "id": "SwIJ_b-zhka5",
        "colab": {
          "base_uri": "https://localhost:8080/"
        },
        "outputId": "eb11f84a-39ae-4847-9cca-d2db5b01f1e9"
      },
      "source": [
        "history = model3.fit(iterator_train, validation_data=iterator_valid, epochs=EPOCHS, verbose=VERBOSE, callbacks=[lrd,es])"
      ],
      "execution_count": null,
      "outputs": [
        {
          "output_type": "stream",
          "text": [
            "Epoch 1/50\n",
            "387/387 [==============================] - 32s 84ms/step - loss: 1.5104 - accuracy: 0.8751 - val_loss: 2.2449 - val_accuracy: 0.8507\n",
            "Epoch 2/50\n",
            "387/387 [==============================] - 33s 85ms/step - loss: 1.5085 - accuracy: 0.8750 - val_loss: 1.6134 - val_accuracy: 0.8678\n",
            "Epoch 3/50\n",
            "387/387 [==============================] - 32s 83ms/step - loss: 1.5046 - accuracy: 0.8754 - val_loss: 1.4130 - val_accuracy: 0.8797\n",
            "Epoch 4/50\n",
            "387/387 [==============================] - 31s 81ms/step - loss: 1.4913 - accuracy: 0.8759 - val_loss: 1.3372 - val_accuracy: 0.8848\n",
            "Epoch 5/50\n",
            "387/387 [==============================] - 32s 83ms/step - loss: 1.4924 - accuracy: 0.8760 - val_loss: 1.4279 - val_accuracy: 0.8758\n",
            "Epoch 6/50\n",
            "387/387 [==============================] - 32s 82ms/step - loss: 1.4880 - accuracy: 0.8760 - val_loss: 1.3757 - val_accuracy: 0.8820\n",
            "Epoch 7/50\n",
            "387/387 [==============================] - 31s 81ms/step - loss: 1.4795 - accuracy: 0.8762 - val_loss: 1.3388 - val_accuracy: 0.8838\n",
            "Epoch 8/50\n",
            "387/387 [==============================] - 31s 81ms/step - loss: 1.4839 - accuracy: 0.8757 - val_loss: 1.3813 - val_accuracy: 0.8832\n",
            "Epoch 9/50\n",
            "387/387 [==============================] - 31s 79ms/step - loss: 1.4808 - accuracy: 0.8763 - val_loss: 1.3123 - val_accuracy: 0.8850\n",
            "Epoch 10/50\n",
            "387/387 [==============================] - 31s 81ms/step - loss: 1.4750 - accuracy: 0.8768 - val_loss: 1.3266 - val_accuracy: 0.8835\n",
            "Epoch 11/50\n",
            "387/387 [==============================] - 31s 80ms/step - loss: 1.4694 - accuracy: 0.8767 - val_loss: 1.3079 - val_accuracy: 0.8854\n",
            "Epoch 12/50\n",
            "387/387 [==============================] - 31s 81ms/step - loss: 1.4550 - accuracy: 0.8776 - val_loss: 1.3048 - val_accuracy: 0.8847\n",
            "Epoch 13/50\n",
            "387/387 [==============================] - 31s 81ms/step - loss: 1.4589 - accuracy: 0.8773 - val_loss: 1.3341 - val_accuracy: 0.8831\n",
            "Epoch 14/50\n",
            "387/387 [==============================] - 30s 79ms/step - loss: 1.4588 - accuracy: 0.8774 - val_loss: 1.3378 - val_accuracy: 0.8836\n",
            "Epoch 15/50\n",
            "387/387 [==============================] - 32s 82ms/step - loss: 1.4546 - accuracy: 0.8771 - val_loss: 1.3130 - val_accuracy: 0.8829\n",
            "Epoch 16/50\n",
            "387/387 [==============================] - 31s 81ms/step - loss: 1.4581 - accuracy: 0.8771 - val_loss: 1.3262 - val_accuracy: 0.8836\n",
            "Epoch 17/50\n",
            "387/387 [==============================] - 30s 78ms/step - loss: 1.4400 - accuracy: 0.8785 - val_loss: 1.2764 - val_accuracy: 0.8853\n",
            "Epoch 18/50\n",
            "387/387 [==============================] - 31s 80ms/step - loss: 1.4388 - accuracy: 0.8780 - val_loss: 1.3627 - val_accuracy: 0.8810\n",
            "Epoch 19/50\n",
            "387/387 [==============================] - 30s 78ms/step - loss: 1.4389 - accuracy: 0.8779 - val_loss: 1.2779 - val_accuracy: 0.8858\n",
            "Epoch 20/50\n",
            "387/387 [==============================] - 30s 77ms/step - loss: 1.4343 - accuracy: 0.8784 - val_loss: 1.2635 - val_accuracy: 0.8869\n",
            "Epoch 21/50\n",
            "387/387 [==============================] - 31s 80ms/step - loss: 1.4263 - accuracy: 0.8792 - val_loss: 1.3050 - val_accuracy: 0.8832\n",
            "Epoch 22/50\n",
            "387/387 [==============================] - 30s 78ms/step - loss: 1.4190 - accuracy: 0.8788 - val_loss: 1.2727 - val_accuracy: 0.8865\n",
            "Epoch 23/50\n",
            "387/387 [==============================] - 31s 80ms/step - loss: 1.4230 - accuracy: 0.8788 - val_loss: 1.2692 - val_accuracy: 0.8863\n",
            "Epoch 24/50\n",
            "387/387 [==============================] - 30s 77ms/step - loss: 1.4170 - accuracy: 0.8788 - val_loss: 1.2474 - val_accuracy: 0.8870\n",
            "Epoch 25/50\n",
            "387/387 [==============================] - 31s 80ms/step - loss: 1.4145 - accuracy: 0.8791 - val_loss: 1.2405 - val_accuracy: 0.8878\n",
            "Epoch 26/50\n",
            "387/387 [==============================] - 30s 78ms/step - loss: 1.4037 - accuracy: 0.8793 - val_loss: 1.2916 - val_accuracy: 0.8830\n",
            "Epoch 27/50\n",
            "387/387 [==============================] - 31s 80ms/step - loss: 1.4136 - accuracy: 0.8789 - val_loss: 1.2441 - val_accuracy: 0.8878\n",
            "Epoch 28/50\n",
            "387/387 [==============================] - 30s 78ms/step - loss: 1.3989 - accuracy: 0.8801 - val_loss: 1.2708 - val_accuracy: 0.8845\n",
            "Epoch 29/50\n",
            "387/387 [==============================] - 30s 78ms/step - loss: 1.3919 - accuracy: 0.8800 - val_loss: 1.2208 - val_accuracy: 0.8884\n",
            "Epoch 30/50\n",
            "387/387 [==============================] - 31s 81ms/step - loss: 1.3877 - accuracy: 0.8805 - val_loss: 1.2343 - val_accuracy: 0.8877\n",
            "Epoch 31/50\n",
            "387/387 [==============================] - 30s 79ms/step - loss: 1.3917 - accuracy: 0.8799 - val_loss: 1.2266 - val_accuracy: 0.8900\n",
            "Epoch 32/50\n",
            "387/387 [==============================] - 31s 81ms/step - loss: 1.3911 - accuracy: 0.8797 - val_loss: 1.2143 - val_accuracy: 0.8889\n",
            "Epoch 33/50\n",
            "387/387 [==============================] - 31s 79ms/step - loss: 1.3769 - accuracy: 0.8807 - val_loss: 1.2249 - val_accuracy: 0.8887\n",
            "Epoch 34/50\n",
            "387/387 [==============================] - 30s 78ms/step - loss: 1.3841 - accuracy: 0.8806 - val_loss: 1.2066 - val_accuracy: 0.8899\n",
            "Epoch 35/50\n",
            "387/387 [==============================] - 30s 79ms/step - loss: 1.3785 - accuracy: 0.8805 - val_loss: 1.3032 - val_accuracy: 0.8823\n",
            "Epoch 36/50\n",
            "387/387 [==============================] - 30s 77ms/step - loss: 1.3784 - accuracy: 0.8799 - val_loss: 1.2377 - val_accuracy: 0.8870\n",
            "Epoch 37/50\n",
            "387/387 [==============================] - 31s 80ms/step - loss: 1.3682 - accuracy: 0.8812 - val_loss: 1.5128 - val_accuracy: 0.8775\n",
            "Epoch 38/50\n",
            "387/387 [==============================] - 31s 79ms/step - loss: 1.3679 - accuracy: 0.8809 - val_loss: 1.2578 - val_accuracy: 0.8855\n",
            "Epoch 39/50\n",
            "387/387 [==============================] - 31s 80ms/step - loss: 1.3683 - accuracy: 0.8815 - val_loss: 1.2263 - val_accuracy: 0.8897\n",
            "Epoch 40/50\n",
            "387/387 [==============================] - 30s 78ms/step - loss: 1.3605 - accuracy: 0.8818 - val_loss: 1.3890 - val_accuracy: 0.8844\n",
            "Epoch 41/50\n",
            "387/387 [==============================] - 31s 81ms/step - loss: 1.3615 - accuracy: 0.8813 - val_loss: 1.1994 - val_accuracy: 0.8908\n",
            "Epoch 42/50\n",
            "387/387 [==============================] - 31s 79ms/step - loss: 1.3554 - accuracy: 0.8814 - val_loss: 1.3320 - val_accuracy: 0.8842\n",
            "Epoch 43/50\n",
            "387/387 [==============================] - 30s 78ms/step - loss: 1.3596 - accuracy: 0.8813 - val_loss: 1.1925 - val_accuracy: 0.8908\n",
            "Epoch 44/50\n",
            "387/387 [==============================] - 31s 79ms/step - loss: 1.3552 - accuracy: 0.8819 - val_loss: 1.1981 - val_accuracy: 0.8898\n",
            "Epoch 45/50\n",
            "387/387 [==============================] - 30s 77ms/step - loss: 1.3528 - accuracy: 0.8815 - val_loss: 1.2055 - val_accuracy: 0.8906\n",
            "Epoch 46/50\n",
            "387/387 [==============================] - 31s 79ms/step - loss: 1.3508 - accuracy: 0.8818 - val_loss: 1.2423 - val_accuracy: 0.8861\n",
            "Epoch 47/50\n",
            "387/387 [==============================] - 30s 78ms/step - loss: 1.3482 - accuracy: 0.8817 - val_loss: 1.2608 - val_accuracy: 0.8852\n",
            "Epoch 48/50\n",
            "387/387 [==============================] - 31s 81ms/step - loss: 1.3488 - accuracy: 0.8813 - val_loss: 1.2422 - val_accuracy: 0.8852\n",
            "Epoch 49/50\n",
            "387/387 [==============================] - 30s 78ms/step - loss: 1.3442 - accuracy: 0.8822 - val_loss: 1.2155 - val_accuracy: 0.8897\n",
            "Epoch 50/50\n",
            "387/387 [==============================] - 30s 77ms/step - loss: 1.3334 - accuracy: 0.8821 - val_loss: 1.2683 - val_accuracy: 0.8823\n"
          ],
          "name": "stdout"
        }
      ]
    },
    {
      "cell_type": "markdown",
      "metadata": {
        "id": "ToBRt1gXPn5Z"
      },
      "source": [
        "Here we plot the information about *loss* and *accuracy* of our trained model:"
      ]
    },
    {
      "cell_type": "code",
      "metadata": {
        "colab": {
          "base_uri": "https://localhost:8080/",
          "height": 573
        },
        "id": "DVv4fcNMPuPG",
        "outputId": "4c055324-0696-462b-ea6e-36ce9d24087f"
      },
      "source": [
        "plotAccuracy(history)\n",
        "plotLoss(history)"
      ],
      "execution_count": null,
      "outputs": [
        {
          "output_type": "display_data",
          "data": {
            "image/png": "[encoded data removed]",
            "text/plain": [
              "<Figure size 432x288 with 1 Axes>"
            ]
          },
          "metadata": {
            "tags": [],
            "needs_background": "light"
          }
        },
        {
          "output_type": "display_data",
          "data": {
            "image/png": "[encoded data removed]",
            "text/plain": [
              "<Figure size 432x288 with 1 Axes>"
            ]
          },
          "metadata": {
            "tags": [],
            "needs_background": "light"
          }
        }
      ]
    },
    {
      "cell_type": "markdown",
      "metadata": {
        "id": "7UCXFkn2QE_w"
      },
      "source": [
        "Finally we print performances on *test set*:"
      ]
    },
    {
      "cell_type": "code",
      "metadata": {
        "id": "MLvE6pF0hka7",
        "colab": {
          "base_uri": "https://localhost:8080/"
        },
        "outputId": "d4c38644-eb53-4a04-8027-1998b5fd8bfd"
      },
      "source": [
        "test_loss, test_acc = model3.evaluate(iterator_test)\n",
        "print('Test accuracy:', test_acc)"
      ],
      "execution_count": null,
      "outputs": [
        {
          "output_type": "stream",
          "text": [
            "96/96 [==============================] - 1s 6ms/step - loss: 1.3814 - accuracy: 0.8835\n",
            "Test accuracy: 0.8835129141807556\n"
          ],
          "name": "stdout"
        }
      ]
    },
    {
      "cell_type": "markdown",
      "metadata": {
        "id": "7PbvTOTwhka-"
      },
      "source": [
        "### Fourth Model: A Second Version of a Convolutional Neural Network"
      ]
    },
    {
      "cell_type": "markdown",
      "metadata": {
        "id": "o9q4HmG6WaSB"
      },
      "source": [
        "First, we read again our dataset from binary files"
      ]
    },
    {
      "cell_type": "code",
      "metadata": {
        "id": "1iFGjr1oWegy"
      },
      "source": [
        "X_train = np.load(\"/content/drive/MyDrive/Machine Learning Competition/datasetTrain.npy\")\n",
        "X_test_label = np.load(\"/content/drive/MyDrive/Machine Learning Competition/datasetTest.npy\")\n",
        "Y_train = readCSVLabels(training_csv_dir)"
      ],
      "execution_count": null,
      "outputs": []
    },
    {
      "cell_type": "markdown",
      "metadata": {
        "id": "kunleoWYWmy6"
      },
      "source": [
        "Then we actually read the content into the variables"
      ]
    },
    {
      "cell_type": "code",
      "metadata": {
        "id": "pn9XFqo8Wnhb"
      },
      "source": [
        "X_train, X_test, Y_train, Y_test = preProcessCNN(X_train, Y_train)"
      ],
      "execution_count": null,
      "outputs": []
    },
    {
      "cell_type": "markdown",
      "metadata": {
        "id": "qo-BS5sGWwny"
      },
      "source": [
        "Labels are managed using One hot encoding"
      ]
    },
    {
      "cell_type": "code",
      "metadata": {
        "id": "ExWDmaoKW0xA"
      },
      "source": [
        "Y_train = keras.utils.to_categorical(Y_train, NB_CLASSES)\n",
        "Y_test = keras.utils.to_categorical(Y_test, NB_CLASSES)"
      ],
      "execution_count": null,
      "outputs": []
    },
    {
      "cell_type": "markdown",
      "metadata": {
        "id": "0ewo5PeLW8Ap"
      },
      "source": [
        "Here we define an *ImageDataGenerator* to do an augmentation of our dataset through a series if transforms. The operation is executed on *train*, *validation* and *test* datasets."
      ]
    },
    {
      "cell_type": "code",
      "metadata": {
        "id": "MCgoRbtFW8-S"
      },
      "source": [
        "train_datagen = ImageDataGenerator(rescale = 1./255, validation_split = VALIDATION_SPLIT, rotation_range=5, width_shift_range=0.2, height_shift_range=0.2, shear_range=0.2, zoom_range=0.2, horizontal_flip=True, vertical_flip=True, fill_mode='nearest')\n",
        "valid_datagen = ImageDataGenerator(rescale = 1./255, validation_split = VALIDATION_SPLIT)\n",
        "test_datagen  = ImageDataGenerator(rescale = 1./255)"
      ],
      "execution_count": null,
      "outputs": []
    },
    {
      "cell_type": "markdown",
      "metadata": {
        "id": "kd-25yy1XDF5"
      },
      "source": [
        "Next, we define the flow for our three datasets to charge data in batches:"
      ]
    },
    {
      "cell_type": "code",
      "metadata": {
        "id": "Trqo3ePMXJUx"
      },
      "source": [
        "iterator_train = train_datagen.flow(X_train, Y_train, batch_size=BATCH_SIZE, subset='training')\n",
        "iterator_valid = valid_datagen.flow(X_train, Y_train, batch_size=BATCH_SIZE, subset='validation')\n",
        "iterator_test = test_datagen.flow(X_test, Y_test)"
      ],
      "execution_count": null,
      "outputs": []
    },
    {
      "cell_type": "markdown",
      "metadata": {
        "id": "I6bTiW8ThkbA"
      },
      "source": [
        "We can create our Model as follows:"
      ]
    },
    {
      "cell_type": "code",
      "metadata": {
        "id": "xRmH1iIZhkbE"
      },
      "source": [
        "model4 = tf.keras.models.Sequential()\n",
        "\n",
        "model4.add(keras.layers.Conv2D(32, kernel_size=(3, 3), padding='same', activation='relu', input_shape=(img_h, img_w, img_c)))  \n",
        "model4.add(keras.layers.BatchNormalization())\n",
        "model4.add(keras.layers.Conv2D(32, kernel_size=(3, 3), padding='same', activation='relu'))  \n",
        "model4.add(keras.layers.BatchNormalization())\n",
        "model4.add(keras.layers.MaxPooling2D(pool_size=(2,2)))\n",
        "\n",
        "model4.add(keras.layers.Conv2D(64, kernel_size=(3, 3), padding='same', activation='relu'))  \n",
        "model4.add(keras.layers.BatchNormalization())\n",
        "model4.add(keras.layers.Conv2D(64, kernel_size=(3, 3), padding='same', activation='relu'))  \n",
        "model4.add(keras.layers.BatchNormalization())\n",
        "model4.add(keras.layers.MaxPooling2D(pool_size=(2,2)))\n",
        "\n",
        "model4.add(keras.layers.Conv2D(128, kernel_size=(3, 3), padding='same', activation='relu'))  \n",
        "model4.add(keras.layers.BatchNormalization())\n",
        "model4.add(keras.layers.Conv2D(128, kernel_size=(3, 3), padding='same', activation='relu'))  \n",
        "model4.add(keras.layers.BatchNormalization())\n",
        "model4.add(keras.layers.MaxPooling2D(pool_size=(2,2)))\n",
        "\n",
        "model4.add(keras.layers.Conv2D(256, kernel_size=(3, 3), padding='same', activation='relu'))  \n",
        "model4.add(keras.layers.BatchNormalization())\n",
        "model4.add(keras.layers.Conv2D(256, kernel_size=(3, 3), padding='same', activation='relu'))  \n",
        "model4.add(keras.layers.BatchNormalization())\n",
        "model4.add(keras.layers.MaxPooling2D(pool_size=(2,2)))\n",
        "\n",
        "model4.add(keras.layers.Flatten())\n",
        "model4.add(keras.layers.Dense(2304, activation='relu'))\n",
        "model4.add(keras.layers.Dropout(0.30))\n",
        "model4.add(keras.layers.Dense(NB_CLASSES, activation='softmax'))\n"
      ],
      "execution_count": null,
      "outputs": []
    },
    {
      "cell_type": "code",
      "metadata": {
        "id": "OqmY_wf6hkbG",
        "colab": {
          "base_uri": "https://localhost:8080/"
        },
        "outputId": "5b1f9a45-3d25-469f-a22e-7fea9b1c133e"
      },
      "source": [
        "model4.summary()"
      ],
      "execution_count": null,
      "outputs": [
        {
          "output_type": "stream",
          "text": [
            "Model: \"sequential_2\"\n",
            "_________________________________________________________________\n",
            "Layer (type)                 Output Shape              Param #   \n",
            "=================================================================\n",
            "conv2d_16 (Conv2D)           (None, 48, 48, 32)        896       \n",
            "_________________________________________________________________\n",
            "batch_normalization_16 (Batc (None, 48, 48, 32)        128       \n",
            "_________________________________________________________________\n",
            "conv2d_17 (Conv2D)           (None, 48, 48, 32)        9248      \n",
            "_________________________________________________________________\n",
            "batch_normalization_17 (Batc (None, 48, 48, 32)        128       \n",
            "_________________________________________________________________\n",
            "max_pooling2d_8 (MaxPooling2 (None, 24, 24, 32)        0         \n",
            "_________________________________________________________________\n",
            "conv2d_18 (Conv2D)           (None, 24, 24, 64)        18496     \n",
            "_________________________________________________________________\n",
            "batch_normalization_18 (Batc (None, 24, 24, 64)        256       \n",
            "_________________________________________________________________\n",
            "conv2d_19 (Conv2D)           (None, 24, 24, 64)        36928     \n",
            "_________________________________________________________________\n",
            "batch_normalization_19 (Batc (None, 24, 24, 64)        256       \n",
            "_________________________________________________________________\n",
            "max_pooling2d_9 (MaxPooling2 (None, 12, 12, 64)        0         \n",
            "_________________________________________________________________\n",
            "conv2d_20 (Conv2D)           (None, 12, 12, 128)       73856     \n",
            "_________________________________________________________________\n",
            "batch_normalization_20 (Batc (None, 12, 12, 128)       512       \n",
            "_________________________________________________________________\n",
            "conv2d_21 (Conv2D)           (None, 12, 12, 128)       147584    \n",
            "_________________________________________________________________\n",
            "batch_normalization_21 (Batc (None, 12, 12, 128)       512       \n",
            "_________________________________________________________________\n",
            "max_pooling2d_10 (MaxPooling (None, 6, 6, 128)         0         \n",
            "_________________________________________________________________\n",
            "conv2d_22 (Conv2D)           (None, 6, 6, 256)         295168    \n",
            "_________________________________________________________________\n",
            "batch_normalization_22 (Batc (None, 6, 6, 256)         1024      \n",
            "_________________________________________________________________\n",
            "conv2d_23 (Conv2D)           (None, 6, 6, 256)         590080    \n",
            "_________________________________________________________________\n",
            "batch_normalization_23 (Batc (None, 6, 6, 256)         1024      \n",
            "_________________________________________________________________\n",
            "max_pooling2d_11 (MaxPooling (None, 3, 3, 256)         0         \n",
            "_________________________________________________________________\n",
            "flatten_2 (Flatten)          (None, 2304)              0         \n",
            "_________________________________________________________________\n",
            "dense_4 (Dense)              (None, 2304)              5310720   \n",
            "_________________________________________________________________\n",
            "dropout_2 (Dropout)          (None, 2304)              0         \n",
            "_________________________________________________________________\n",
            "dense_5 (Dense)              (None, 7)                 16135     \n",
            "=================================================================\n",
            "Total params: 6,502,951\n",
            "Trainable params: 6,501,031\n",
            "Non-trainable params: 1,920\n",
            "_________________________________________________________________\n"
          ],
          "name": "stdout"
        }
      ]
    },
    {
      "cell_type": "markdown",
      "metadata": {
        "id": "22BVi26IXg5h"
      },
      "source": [
        "Here we define the optimizer and also some tools to manage overfitting:"
      ]
    },
    {
      "cell_type": "code",
      "metadata": {
        "id": "Mt7ysxwOhkbI"
      },
      "source": [
        "lrd = tf.keras.callbacks.ReduceLROnPlateau(monitor = 'val_loss', patience = 20, verbose = 1, factor = 0.50, min_lr = 1e-10)\n",
        "es = tf.keras.callbacks.EarlyStopping(verbose=1, patience=20)\n",
        "METRICS = [tf.keras.metrics.BinaryAccuracy(name='accuracy')]\n",
        "model4.compile(optimizer='Adam', loss='categorical_crossentropy', metrics=METRICS)"
      ],
      "execution_count": null,
      "outputs": []
    },
    {
      "cell_type": "markdown",
      "metadata": {
        "id": "rJEhCB3WXnUY"
      },
      "source": [
        "Here we train the model defined above, splitting the initial training dataset into *training* and *validation*:"
      ]
    },
    {
      "cell_type": "code",
      "metadata": {
        "id": "h3LqxuHShkbJ",
        "colab": {
          "base_uri": "https://localhost:8080/"
        },
        "outputId": "9516c4e4-1b61-40cb-cae2-30e09ef2bb01"
      },
      "source": [
        "history = model4.fit(iterator_train, validation_data=iterator_valid, epochs=EPOCHS, verbose=VERBOSE, callbacks=[lrd,es])"
      ],
      "execution_count": null,
      "outputs": [
        {
          "output_type": "stream",
          "text": [
            "Epoch 1/50\n",
            "387/387 [==============================] - 23s 56ms/step - loss: 2.2201 - accuracy: 0.8466 - val_loss: 1.9071 - val_accuracy: 0.8571\n",
            "Epoch 2/50\n",
            "387/387 [==============================] - 21s 55ms/step - loss: 1.7529 - accuracy: 0.8582 - val_loss: 1.7874 - val_accuracy: 0.8530\n",
            "Epoch 3/50\n",
            "387/387 [==============================] - 21s 55ms/step - loss: 1.6443 - accuracy: 0.8649 - val_loss: 1.5422 - val_accuracy: 0.8686\n",
            "Epoch 4/50\n",
            "387/387 [==============================] - 21s 54ms/step - loss: 1.5573 - accuracy: 0.8698 - val_loss: 1.4279 - val_accuracy: 0.8772\n",
            "Epoch 5/50\n",
            "387/387 [==============================] - 22s 56ms/step - loss: 1.4874 - accuracy: 0.8737 - val_loss: 1.5444 - val_accuracy: 0.8718\n",
            "Epoch 6/50\n",
            "387/387 [==============================] - 21s 55ms/step - loss: 1.4176 - accuracy: 0.8776 - val_loss: 1.3669 - val_accuracy: 0.8756\n",
            "Epoch 7/50\n",
            "387/387 [==============================] - 21s 55ms/step - loss: 1.3787 - accuracy: 0.8787 - val_loss: 1.3574 - val_accuracy: 0.8799\n",
            "Epoch 8/50\n",
            "387/387 [==============================] - 21s 55ms/step - loss: 1.3408 - accuracy: 0.8812 - val_loss: 1.2843 - val_accuracy: 0.8848\n",
            "Epoch 9/50\n",
            "387/387 [==============================] - 22s 56ms/step - loss: 1.3166 - accuracy: 0.8827 - val_loss: 1.3475 - val_accuracy: 0.8767\n",
            "Epoch 10/50\n",
            "387/387 [==============================] - 21s 55ms/step - loss: 1.3159 - accuracy: 0.8824 - val_loss: 1.2735 - val_accuracy: 0.8845\n",
            "Epoch 11/50\n",
            "387/387 [==============================] - 21s 55ms/step - loss: 1.2755 - accuracy: 0.8852 - val_loss: 1.3474 - val_accuracy: 0.8788\n",
            "Epoch 12/50\n",
            "387/387 [==============================] - 21s 55ms/step - loss: 1.2602 - accuracy: 0.8854 - val_loss: 1.2599 - val_accuracy: 0.8883\n",
            "Epoch 13/50\n",
            "387/387 [==============================] - 21s 55ms/step - loss: 1.2448 - accuracy: 0.8870 - val_loss: 1.2040 - val_accuracy: 0.8885\n",
            "Epoch 14/50\n",
            "387/387 [==============================] - 21s 55ms/step - loss: 1.2303 - accuracy: 0.8883 - val_loss: 1.2300 - val_accuracy: 0.8864\n",
            "Epoch 15/50\n",
            "387/387 [==============================] - 21s 55ms/step - loss: 1.2066 - accuracy: 0.8892 - val_loss: 1.2033 - val_accuracy: 0.8866\n",
            "Epoch 16/50\n",
            "387/387 [==============================] - 22s 57ms/step - loss: 1.1915 - accuracy: 0.8903 - val_loss: 1.1732 - val_accuracy: 0.8917\n",
            "Epoch 17/50\n",
            "387/387 [==============================] - 22s 57ms/step - loss: 1.1805 - accuracy: 0.8909 - val_loss: 1.1499 - val_accuracy: 0.8915\n",
            "Epoch 18/50\n",
            "387/387 [==============================] - 24s 61ms/step - loss: 1.1725 - accuracy: 0.8919 - val_loss: 1.1898 - val_accuracy: 0.8901\n",
            "Epoch 19/50\n",
            "387/387 [==============================] - 23s 59ms/step - loss: 1.1785 - accuracy: 0.8915 - val_loss: 1.1231 - val_accuracy: 0.8963\n",
            "Epoch 20/50\n",
            "387/387 [==============================] - 22s 56ms/step - loss: 1.1529 - accuracy: 0.8929 - val_loss: 1.1374 - val_accuracy: 0.8938\n",
            "Epoch 21/50\n",
            "387/387 [==============================] - 22s 56ms/step - loss: 1.1362 - accuracy: 0.8938 - val_loss: 1.1562 - val_accuracy: 0.8920\n",
            "Epoch 22/50\n",
            "387/387 [==============================] - 21s 55ms/step - loss: 1.1209 - accuracy: 0.8954 - val_loss: 1.1061 - val_accuracy: 0.8970\n",
            "Epoch 23/50\n",
            "387/387 [==============================] - 22s 56ms/step - loss: 1.1245 - accuracy: 0.8951 - val_loss: 1.2150 - val_accuracy: 0.8903\n",
            "Epoch 24/50\n",
            "387/387 [==============================] - 21s 55ms/step - loss: 1.1054 - accuracy: 0.8964 - val_loss: 1.1207 - val_accuracy: 0.8971\n",
            "Epoch 25/50\n",
            "387/387 [==============================] - 22s 56ms/step - loss: 1.0963 - accuracy: 0.8968 - val_loss: 1.0977 - val_accuracy: 0.8951\n",
            "Epoch 26/50\n",
            "387/387 [==============================] - 21s 55ms/step - loss: 1.0879 - accuracy: 0.8982 - val_loss: 1.0731 - val_accuracy: 0.8995\n",
            "Epoch 27/50\n",
            "387/387 [==============================] - 22s 56ms/step - loss: 1.0809 - accuracy: 0.8985 - val_loss: 1.1259 - val_accuracy: 0.8965\n",
            "Epoch 28/50\n",
            "387/387 [==============================] - 21s 54ms/step - loss: 1.0769 - accuracy: 0.8986 - val_loss: 1.1520 - val_accuracy: 0.8896\n",
            "Epoch 29/50\n",
            "387/387 [==============================] - 21s 55ms/step - loss: 1.0619 - accuracy: 0.8997 - val_loss: 1.1415 - val_accuracy: 0.8943\n",
            "Epoch 30/50\n",
            "387/387 [==============================] - 23s 59ms/step - loss: 1.0499 - accuracy: 0.9007 - val_loss: 1.0811 - val_accuracy: 0.8985\n",
            "Epoch 31/50\n",
            "387/387 [==============================] - 24s 61ms/step - loss: 1.0417 - accuracy: 0.9012 - val_loss: 1.0614 - val_accuracy: 0.9008\n",
            "Epoch 32/50\n",
            "387/387 [==============================] - 22s 58ms/step - loss: 1.0385 - accuracy: 0.9012 - val_loss: 1.0592 - val_accuracy: 0.9011\n",
            "Epoch 33/50\n",
            "387/387 [==============================] - 22s 56ms/step - loss: 1.0349 - accuracy: 0.9008 - val_loss: 1.0759 - val_accuracy: 0.8997\n",
            "Epoch 34/50\n",
            "387/387 [==============================] - 21s 56ms/step - loss: 1.0234 - accuracy: 0.9027 - val_loss: 1.0655 - val_accuracy: 0.8995\n",
            "Epoch 35/50\n",
            "387/387 [==============================] - 22s 56ms/step - loss: 1.0158 - accuracy: 0.9031 - val_loss: 1.0373 - val_accuracy: 0.9003\n",
            "Epoch 36/50\n",
            "387/387 [==============================] - 21s 55ms/step - loss: 1.0004 - accuracy: 0.9044 - val_loss: 1.1616 - val_accuracy: 0.8891\n",
            "Epoch 37/50\n",
            "387/387 [==============================] - 22s 57ms/step - loss: 1.0086 - accuracy: 0.9039 - val_loss: 1.0531 - val_accuracy: 0.9007\n",
            "Epoch 38/50\n",
            "387/387 [==============================] - 23s 58ms/step - loss: 0.9980 - accuracy: 0.9043 - val_loss: 1.0833 - val_accuracy: 0.8978\n",
            "Epoch 39/50\n",
            "387/387 [==============================] - 23s 58ms/step - loss: 0.9828 - accuracy: 0.9052 - val_loss: 1.0835 - val_accuracy: 0.8991\n",
            "Epoch 40/50\n",
            "387/387 [==============================] - 22s 56ms/step - loss: 0.9889 - accuracy: 0.9055 - val_loss: 1.0621 - val_accuracy: 0.8974\n",
            "Epoch 41/50\n",
            "387/387 [==============================] - 22s 56ms/step - loss: 0.9726 - accuracy: 0.9060 - val_loss: 1.2620 - val_accuracy: 0.8836\n",
            "Epoch 42/50\n",
            "387/387 [==============================] - 22s 56ms/step - loss: 0.9809 - accuracy: 0.9055 - val_loss: 1.0450 - val_accuracy: 0.9035\n",
            "Epoch 43/50\n",
            "387/387 [==============================] - 22s 56ms/step - loss: 0.9660 - accuracy: 0.9068 - val_loss: 1.0731 - val_accuracy: 0.9002\n",
            "Epoch 44/50\n",
            "387/387 [==============================] - 22s 57ms/step - loss: 0.9653 - accuracy: 0.9072 - val_loss: 1.0781 - val_accuracy: 0.8997\n",
            "Epoch 45/50\n",
            "387/387 [==============================] - 22s 56ms/step - loss: 0.9525 - accuracy: 0.9079 - val_loss: 1.0828 - val_accuracy: 0.8995\n",
            "Epoch 46/50\n",
            "387/387 [==============================] - 22s 57ms/step - loss: 0.9480 - accuracy: 0.9080 - val_loss: 1.0714 - val_accuracy: 0.8993\n",
            "Epoch 47/50\n",
            "387/387 [==============================] - 23s 60ms/step - loss: 0.9440 - accuracy: 0.9083 - val_loss: 1.0276 - val_accuracy: 0.9029\n",
            "Epoch 48/50\n",
            "387/387 [==============================] - 22s 58ms/step - loss: 0.9409 - accuracy: 0.9091 - val_loss: 1.0455 - val_accuracy: 0.9037\n",
            "Epoch 49/50\n",
            "387/387 [==============================] - 22s 57ms/step - loss: 0.9363 - accuracy: 0.9092 - val_loss: 1.0410 - val_accuracy: 0.9026\n",
            "Epoch 50/50\n",
            "387/387 [==============================] - 23s 59ms/step - loss: 0.9262 - accuracy: 0.9103 - val_loss: 1.0160 - val_accuracy: 0.9038\n"
          ],
          "name": "stdout"
        }
      ]
    },
    {
      "cell_type": "markdown",
      "metadata": {
        "id": "ZwzuxQRzX4nu"
      },
      "source": [
        "Here we plot the information about *loss* and *accuracy* of our trained model:"
      ]
    },
    {
      "cell_type": "code",
      "metadata": {
        "colab": {
          "base_uri": "https://localhost:8080/",
          "height": 573
        },
        "id": "cYDeSsvWX8iv",
        "outputId": "49ab8139-0acb-4ca8-ad07-7fa06b679ee3"
      },
      "source": [
        "plotAccuracy(history)\n",
        "plotLoss(history)"
      ],
      "execution_count": null,
      "outputs": [
        {
          "output_type": "display_data",
          "data": {
            "image/png": "[encoded data removed]",
            "text/plain": [
              "<Figure size 432x288 with 1 Axes>"
            ]
          },
          "metadata": {
            "tags": [],
            "needs_background": "light"
          }
        },
        {
          "output_type": "display_data",
          "data": {
            "image/png": "[encoded data removed]",
            "text/plain": [
              "<Figure size 432x288 with 1 Axes>"
            ]
          },
          "metadata": {
            "tags": [],
            "needs_background": "light"
          }
        }
      ]
    },
    {
      "cell_type": "markdown",
      "metadata": {
        "id": "7JiOHpHaYA9g"
      },
      "source": [
        "Finally we print performances on *test set*:"
      ]
    },
    {
      "cell_type": "code",
      "metadata": {
        "id": "Vg9XjtjuJC2u",
        "colab": {
          "base_uri": "https://localhost:8080/"
        },
        "outputId": "3e0f3f24-400d-4d64-b4ac-7ffbef994aca"
      },
      "source": [
        "test_loss, test_acc = model4.evaluate(iterator_test)\n",
        "print('Test accuracy:', test_acc)"
      ],
      "execution_count": null,
      "outputs": [
        {
          "output_type": "stream",
          "text": [
            "96/96 [==============================] - 1s 6ms/step - loss: 1.0266 - accuracy: 0.9040\n",
            "Test accuracy: 0.9039813280105591\n"
          ],
          "name": "stdout"
        }
      ]
    },
    {
      "cell_type": "markdown",
      "metadata": {
        "id": "6MyyayOvJXlW"
      },
      "source": [
        "### Fifth Model: Transfer Learning of a prebuilt learning model"
      ]
    },
    {
      "cell_type": "markdown",
      "metadata": {
        "id": "spIFSJMzftxZ"
      },
      "source": [
        "First, we read again our dataset from binary files"
      ]
    },
    {
      "cell_type": "code",
      "metadata": {
        "id": "hMp0sY8IZ65g"
      },
      "source": [
        "X_train = np.load(\"/content/drive/MyDrive/Machine Learning Competition/datasetTrain.npy\")\n",
        "X_test_label = np.load(\"/content/drive/MyDrive/Machine Learning Competition/datasetTest.npy\")\n",
        "Y_train = readCSVLabels(training_csv_dir)"
      ],
      "execution_count": null,
      "outputs": []
    },
    {
      "cell_type": "markdown",
      "metadata": {
        "id": "WJ9oALkTf11x"
      },
      "source": [
        "Then we actually read the content into the variables"
      ]
    },
    {
      "cell_type": "code",
      "metadata": {
        "id": "xrnBX_gkf7cJ"
      },
      "source": [
        "X_train, X_test, Y_train, Y_test = preProcessCNN(X_train, Y_train)"
      ],
      "execution_count": null,
      "outputs": []
    },
    {
      "cell_type": "markdown",
      "metadata": {
        "id": "iazhOmIRf_6Q"
      },
      "source": [
        "Labels are managed using One hot encoding"
      ]
    },
    {
      "cell_type": "code",
      "metadata": {
        "id": "sebgOYQrgFYA"
      },
      "source": [
        "Y_train = keras.utils.to_categorical(Y_train, NB_CLASSES)\n",
        "Y_test = keras.utils.to_categorical(Y_test, NB_CLASSES)"
      ],
      "execution_count": null,
      "outputs": []
    },
    {
      "cell_type": "markdown",
      "metadata": {
        "id": "nPnt5hARgJHg"
      },
      "source": [
        "Here we define an *ImageDataGenerator* to do an augmentation of our dataset through a series if transforms. The operation is executed on *train*, *validation* and *test* datasets."
      ]
    },
    {
      "cell_type": "code",
      "metadata": {
        "id": "uUeABbHOgOOo"
      },
      "source": [
        "train_datagen = ImageDataGenerator(rescale = 1./255, validation_split = VALIDATION_SPLIT, rotation_range=5, width_shift_range=0.2, height_shift_range=0.2, shear_range=0.2, horizontal_flip=True, vertical_flip=True, fill_mode='nearest')\n",
        "valid_datagen = ImageDataGenerator(rescale = 1./255, validation_split = VALIDATION_SPLIT)\n",
        "test_datagen  = ImageDataGenerator(rescale = 1./255)"
      ],
      "execution_count": null,
      "outputs": []
    },
    {
      "cell_type": "markdown",
      "metadata": {
        "id": "kKx4xNC_gSFY"
      },
      "source": [
        "Next, we define the flow for our three datasets to charge data in batches:"
      ]
    },
    {
      "cell_type": "code",
      "metadata": {
        "id": "pw7CXcfOgXiu"
      },
      "source": [
        "iterator_train = train_datagen.flow(X_train, Y_train, batch_size=BATCH_SIZE, subset='training')\n",
        "iterator_valid = valid_datagen.flow(X_train, Y_train, batch_size=BATCH_SIZE, subset='validation')\n",
        "iterator_test = test_datagen.flow(X_test, Y_test)"
      ],
      "execution_count": null,
      "outputs": []
    },
    {
      "cell_type": "markdown",
      "metadata": {
        "id": "e-m2M0SCglr5"
      },
      "source": [
        "We first import our pretrained Model *EfficientNetB7* trained on *imagenet*"
      ]
    },
    {
      "cell_type": "code",
      "metadata": {
        "id": "740d6MZhxe2r",
        "colab": {
          "base_uri": "https://localhost:8080/"
        },
        "outputId": "430c0ed3-9060-4755-9911-8d3340bbcb49"
      },
      "source": [
        "base_model = tf.keras.applications.EfficientNetB0(input_shape=(48,48,3), include_top=False, weights=\"imagenet\")"
      ],
      "execution_count": null,
      "outputs": [
        {
          "output_type": "stream",
          "text": [
            "Downloading data from https://storage.googleapis.com/keras-applications/efficientnetb0_notop.h5\n",
            "16711680/16705208 [==============================] - 0s 0us/step\n"
          ],
          "name": "stdout"
        }
      ]
    },
    {
      "cell_type": "markdown",
      "metadata": {
        "id": "K5vq6VWng3_3"
      },
      "source": [
        "First, all the layers of our pretrained Model are set as not trainable"
      ]
    },
    {
      "cell_type": "code",
      "metadata": {
        "id": "G5Hfsp93mpvP"
      },
      "source": [
        "for layer in base_model.layers: \n",
        "    layer.trainable=False"
      ],
      "execution_count": null,
      "outputs": []
    },
    {
      "cell_type": "markdown",
      "metadata": {
        "id": "rNPF1SKjhXLP"
      },
      "source": [
        "Here we define our Model, adding the Fully Connected Network"
      ]
    },
    {
      "cell_type": "code",
      "metadata": {
        "id": "nhblor-ObTY4"
      },
      "source": [
        "model5 = tf.keras.models.Sequential()\n",
        "\n",
        "model5.add(base_model)\n",
        "model5.add(keras.layers.Flatten())\n",
        "model5.add(keras.layers.Dense(5120, activation='relu'))\n",
        "model5.add(keras.layers.Dropout(0.50))\n",
        "model5.add(keras.layers.Dense(NB_CLASSES, activation='softmax'))"
      ],
      "execution_count": null,
      "outputs": []
    },
    {
      "cell_type": "code",
      "metadata": {
        "colab": {
          "base_uri": "https://localhost:8080/"
        },
        "id": "meYwfX_0m28F",
        "outputId": "038d0308-6a1d-495e-95e8-fef49de85aa8"
      },
      "source": [
        "model5.summary()"
      ],
      "execution_count": null,
      "outputs": [
        {
          "output_type": "stream",
          "text": [
            "Model: \"sequential_3\"\n",
            "_________________________________________________________________\n",
            "Layer (type)                 Output Shape              Param #   \n",
            "=================================================================\n",
            "efficientnetb0 (Functional)  (None, 2, 2, 1280)        4049571   \n",
            "_________________________________________________________________\n",
            "flatten_3 (Flatten)          (None, 5120)              0         \n",
            "_________________________________________________________________\n",
            "dense_6 (Dense)              (None, 5120)              26219520  \n",
            "_________________________________________________________________\n",
            "dropout_3 (Dropout)          (None, 5120)              0         \n",
            "_________________________________________________________________\n",
            "dense_7 (Dense)              (None, 7)                 35847     \n",
            "=================================================================\n",
            "Total params: 30,304,938\n",
            "Trainable params: 26,255,367\n",
            "Non-trainable params: 4,049,571\n",
            "_________________________________________________________________\n"
          ],
          "name": "stdout"
        }
      ]
    },
    {
      "cell_type": "markdown",
      "metadata": {
        "id": "oxOgd14xhman"
      },
      "source": [
        "Here we define the optimizer and also some tools to manage overfitting:"
      ]
    },
    {
      "cell_type": "code",
      "metadata": {
        "id": "bqYo1pxQm4Sw"
      },
      "source": [
        "lrd = tf.keras.callbacks.ReduceLROnPlateau(monitor = 'val_loss', patience = 20, verbose = 1, factor = 0.50, min_lr = 1e-10)\n",
        "es = tf.keras.callbacks.EarlyStopping(verbose=1, patience=20)\n",
        "METRICS = [tf.keras.metrics.BinaryAccuracy(name='accuracy')]\n",
        "model5.compile(optimizer='Adam', loss='categorical_crossentropy', metrics=METRICS)"
      ],
      "execution_count": null,
      "outputs": []
    },
    {
      "cell_type": "markdown",
      "metadata": {
        "id": "bIGI-UIlh-8G"
      },
      "source": [
        "Here we train the model defined above, splitting the initial training dataset into *training* and *validation*:"
      ]
    },
    {
      "cell_type": "code",
      "metadata": {
        "colab": {
          "base_uri": "https://localhost:8080/"
        },
        "id": "FIVMiCPSh4bb",
        "outputId": "4dbd4580-a756-432f-c1e7-97816d4afb38"
      },
      "source": [
        "history = model5.fit(iterator_train, validation_data=iterator_valid, epochs=EPOCHS, verbose=VERBOSE, callbacks=[lrd,es])"
      ],
      "execution_count": null,
      "outputs": [
        {
          "output_type": "stream",
          "text": [
            "Epoch 1/50\n",
            "387/387 [==============================] - 30s 64ms/step - loss: 2.0787 - accuracy: 0.8520 - val_loss: 1.8096 - val_accuracy: 0.8571\n",
            "Epoch 2/50\n",
            "387/387 [==============================] - 23s 60ms/step - loss: 1.8275 - accuracy: 0.8571 - val_loss: 1.8004 - val_accuracy: 0.8571\n",
            "Epoch 3/50\n",
            "387/387 [==============================] - 23s 60ms/step - loss: 1.8268 - accuracy: 0.8571 - val_loss: 1.7973 - val_accuracy: 0.8571\n",
            "Epoch 4/50\n",
            "387/387 [==============================] - 23s 59ms/step - loss: 1.8250 - accuracy: 0.8571 - val_loss: 1.7992 - val_accuracy: 0.8571\n",
            "Epoch 5/50\n",
            "387/387 [==============================] - 23s 59ms/step - loss: 1.8216 - accuracy: 0.8571 - val_loss: 1.8034 - val_accuracy: 0.8571\n",
            "Epoch 6/50\n",
            "387/387 [==============================] - 24s 61ms/step - loss: 1.8199 - accuracy: 0.8571 - val_loss: 1.7967 - val_accuracy: 0.8571\n",
            "Epoch 7/50\n",
            "387/387 [==============================] - 24s 62ms/step - loss: 1.8182 - accuracy: 0.8571 - val_loss: 1.8011 - val_accuracy: 0.8571\n",
            "Epoch 8/50\n",
            "387/387 [==============================] - 24s 61ms/step - loss: 1.8173 - accuracy: 0.8571 - val_loss: 1.8030 - val_accuracy: 0.8571\n",
            "Epoch 9/50\n",
            "387/387 [==============================] - 24s 62ms/step - loss: 1.8141 - accuracy: 0.8571 - val_loss: 1.7999 - val_accuracy: 0.8571\n",
            "Epoch 10/50\n",
            "387/387 [==============================] - 24s 61ms/step - loss: 1.8127 - accuracy: 0.8571 - val_loss: 1.7985 - val_accuracy: 0.8571\n",
            "Epoch 11/50\n",
            "387/387 [==============================] - 23s 59ms/step - loss: 1.8124 - accuracy: 0.8571 - val_loss: 1.7978 - val_accuracy: 0.8571\n",
            "Epoch 12/50\n",
            "387/387 [==============================] - 24s 61ms/step - loss: 1.8118 - accuracy: 0.8571 - val_loss: 1.7976 - val_accuracy: 0.8571\n",
            "Epoch 13/50\n",
            "387/387 [==============================] - 24s 61ms/step - loss: 1.8118 - accuracy: 0.8571 - val_loss: 1.7972 - val_accuracy: 0.8571\n",
            "Epoch 14/50\n",
            "387/387 [==============================] - 24s 62ms/step - loss: 1.8116 - accuracy: 0.8571 - val_loss: 1.7973 - val_accuracy: 0.8571\n",
            "Epoch 15/50\n",
            "387/387 [==============================] - 24s 61ms/step - loss: 1.8117 - accuracy: 0.8571 - val_loss: 1.7971 - val_accuracy: 0.8571\n",
            "Epoch 16/50\n",
            "387/387 [==============================] - 23s 60ms/step - loss: 1.8116 - accuracy: 0.8571 - val_loss: 1.8007 - val_accuracy: 0.8571\n",
            "Epoch 17/50\n",
            "387/387 [==============================] - 23s 60ms/step - loss: 1.8120 - accuracy: 0.8571 - val_loss: 1.7968 - val_accuracy: 0.8571\n",
            "Epoch 18/50\n",
            "387/387 [==============================] - 23s 60ms/step - loss: 1.8116 - accuracy: 0.8571 - val_loss: 1.7969 - val_accuracy: 0.8571\n",
            "Epoch 19/50\n",
            "387/387 [==============================] - 23s 61ms/step - loss: 1.8116 - accuracy: 0.8571 - val_loss: 1.7969 - val_accuracy: 0.8571\n",
            "Epoch 20/50\n",
            "387/387 [==============================] - 23s 60ms/step - loss: 1.8116 - accuracy: 0.8571 - val_loss: 1.7970 - val_accuracy: 0.8571\n",
            "Epoch 21/50\n",
            "387/387 [==============================] - 23s 59ms/step - loss: 1.8116 - accuracy: 0.8571 - val_loss: 1.7970 - val_accuracy: 0.8571\n",
            "Epoch 22/50\n",
            "387/387 [==============================] - 23s 60ms/step - loss: 1.8116 - accuracy: 0.8571 - val_loss: 1.7970 - val_accuracy: 0.8571\n",
            "Epoch 23/50\n",
            "387/387 [==============================] - 23s 60ms/step - loss: 1.8116 - accuracy: 0.8571 - val_loss: 1.7971 - val_accuracy: 0.8571\n",
            "Epoch 24/50\n",
            "387/387 [==============================] - 23s 60ms/step - loss: 1.8116 - accuracy: 0.8571 - val_loss: 1.7969 - val_accuracy: 0.8571\n",
            "Epoch 25/50\n",
            "387/387 [==============================] - 23s 59ms/step - loss: 1.8116 - accuracy: 0.8571 - val_loss: 1.7968 - val_accuracy: 0.8571\n",
            "Epoch 26/50\n",
            "387/387 [==============================] - 23s 60ms/step - loss: 1.8116 - accuracy: 0.8571 - val_loss: 1.7969 - val_accuracy: 0.8571\n",
            "\n",
            "Epoch 00026: ReduceLROnPlateau reducing learning rate to 0.0005000000237487257.\n",
            "Epoch 00026: early stopping\n"
          ],
          "name": "stdout"
        }
      ]
    },
    {
      "cell_type": "markdown",
      "metadata": {
        "id": "EeCZjOa5iA-F"
      },
      "source": [
        "Here we plot the information about *loss* and *accuracy* of our trained model:"
      ]
    },
    {
      "cell_type": "code",
      "metadata": {
        "id": "BPqs_te2iHOe",
        "colab": {
          "base_uri": "https://localhost:8080/",
          "height": 573
        },
        "outputId": "32d7e6c6-4fff-4763-e848-39e226b768b5"
      },
      "source": [
        "plotAccuracy(history)\n",
        "plotLoss(history)"
      ],
      "execution_count": null,
      "outputs": [
        {
          "output_type": "display_data",
          "data": {
            "image/png": "[encoded data removed]",
            "text/plain": [
              "<Figure size 432x288 with 1 Axes>"
            ]
          },
          "metadata": {
            "tags": [],
            "needs_background": "light"
          }
        },
        {
          "output_type": "display_data",
          "data": {
            "image/png": "[encoded data removed]",
            "text/plain": [
              "<Figure size 432x288 with 1 Axes>"
            ]
          },
          "metadata": {
            "tags": [],
            "needs_background": "light"
          }
        }
      ]
    },
    {
      "cell_type": "markdown",
      "metadata": {
        "id": "jjD2F164iJ-X"
      },
      "source": [
        "Finally we print performances on *test set*:"
      ]
    },
    {
      "cell_type": "code",
      "metadata": {
        "id": "lIGvgHxXiMZm",
        "colab": {
          "base_uri": "https://localhost:8080/"
        },
        "outputId": "9e1d850b-454f-40a0-fd7d-18a86280adc5"
      },
      "source": [
        "test_loss, test_acc = model5.evaluate(iterator_test)\n",
        "print('Test accuracy:', test_acc)"
      ],
      "execution_count": null,
      "outputs": [
        {
          "output_type": "stream",
          "text": [
            "96/96 [==============================] - 2s 17ms/step - loss: 1.8061 - accuracy: 0.8571\n",
            "Test accuracy: 0.857142448425293\n"
          ],
          "name": "stdout"
        }
      ]
    },
    {
      "cell_type": "markdown",
      "metadata": {
        "id": "F9D5cQoykPmf"
      },
      "source": [
        "#Emotion assignment on *Testing set*"
      ]
    },
    {
      "cell_type": "markdown",
      "metadata": {
        "id": "6CoNlWC_kvdN"
      },
      "source": [
        "The evaluation of the models defined in the previous section shows that the best solution is given by **Fourth model**, a Convolutional Neural Network with an accuracy of about *90%* on testing. Now, using such a model we try to label images on *Testing set* to produce *emotion* column on the related *.csv* file."
      ]
    },
    {
      "cell_type": "markdown",
      "metadata": {
        "id": "lqirWnvUoEki"
      },
      "source": [
        "First, let's define an ImageDataGenerator for our Testing set:"
      ]
    },
    {
      "cell_type": "code",
      "metadata": {
        "id": "mNktevqsoTat"
      },
      "source": [
        "test_label_datagen  = ImageDataGenerator(rescale = 1./255)"
      ],
      "execution_count": null,
      "outputs": []
    },
    {
      "cell_type": "markdown",
      "metadata": {
        "id": "K70beoX1owPu"
      },
      "source": [
        "Then the flow:"
      ]
    },
    {
      "cell_type": "code",
      "metadata": {
        "id": "JVkjZgYTpF16"
      },
      "source": [
        "iterator_test_label = test_label_datagen.flow(X_test_label, shuffle=False)"
      ],
      "execution_count": null,
      "outputs": []
    },
    {
      "cell_type": "markdown",
      "metadata": {
        "id": "2wm-qvWnv5ik"
      },
      "source": [
        "Here we compute our predictions:"
      ]
    },
    {
      "cell_type": "code",
      "metadata": {
        "id": "wQtxsOWzsQT5"
      },
      "source": [
        "predictions = model4.predict(iterator_test_label).argmax(axis=1)"
      ],
      "execution_count": null,
      "outputs": []
    },
    {
      "cell_type": "markdown",
      "metadata": {
        "id": "W7Q3xMT7-xZf"
      },
      "source": [
        "In addition, we define a function *readCSVList* used to load our *test csv* from the directory into a numpy array and ordered by *image_id*."
      ]
    },
    {
      "cell_type": "code",
      "metadata": {
        "id": "kMmAoWjQ0odp"
      },
      "source": [
        "def readCSVList(directory):\n",
        "    df = pd.read_csv(directory, sep=',',header=0)\n",
        "    df_sorted = df.sort_values(\"image_id\")\n",
        "    npy = df_sorted.to_numpy()\n",
        "    npy = np.delete(npy, obj=2, axis=1)\n",
        "    return npy"
      ],
      "execution_count": null,
      "outputs": []
    },
    {
      "cell_type": "markdown",
      "metadata": {
        "id": "nGUTSUd-_8Hc"
      },
      "source": [
        "We actually load the data from the *.csv* file on the directory."
      ]
    },
    {
      "cell_type": "code",
      "metadata": {
        "id": "kVTZ3ltP6idb"
      },
      "source": [
        "test_npy = readCSVList(test_csv_dir)"
      ],
      "execution_count": null,
      "outputs": []
    },
    {
      "cell_type": "markdown",
      "metadata": {
        "id": "SQ8k3iDpAMbt"
      },
      "source": [
        "And define a function which adds predicted labels from our model creating the original structure of the *.csv* file."
      ]
    },
    {
      "cell_type": "code",
      "metadata": {
        "id": "DBkBCv0o_SZb"
      },
      "source": [
        "def addLabels(numpy_data, labels):\n",
        "  labeled_npy = np.append(numpy_data, np.expand_dims(labels, axis = 1), axis=1)\n",
        "  labeled_df = pd.DataFrame({'': labeled_npy[:, 0], 'image_id': labeled_npy[:, 1], 'emotion': labeled_npy[:, 2]})\n",
        "  resorted_labeled_df = labeled_df.sort_values(\"\")\n",
        "  return resorted_labeled_df"
      ],
      "execution_count": null,
      "outputs": []
    },
    {
      "cell_type": "markdown",
      "metadata": {
        "id": "rUj12cOKAj__"
      },
      "source": [
        "Here we execute the function defined above."
      ]
    },
    {
      "cell_type": "code",
      "metadata": {
        "id": "_c5RDX5N_wCB"
      },
      "source": [
        "test_label = addLabels(test_npy, predictions)"
      ],
      "execution_count": null,
      "outputs": []
    },
    {
      "cell_type": "markdown",
      "metadata": {
        "id": "FDcn5rFZAqge"
      },
      "source": [
        "And finally we save the labeled *.csv* Test set."
      ]
    },
    {
      "cell_type": "code",
      "metadata": {
        "id": "TrEr0qLd8McY"
      },
      "source": [
        "test_label.to_csv('/content/drive/MyDrive/Machine Learning Competition/challengeA_data/challengeA_data/Cavallaro,Salvatore_Answers.csv', index = False)"
      ],
      "execution_count": null,
      "outputs": []
    }
  ]
}